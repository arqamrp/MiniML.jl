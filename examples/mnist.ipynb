{
 "cells": [
  {
   "cell_type": "markdown",
   "metadata": {},
   "source": [
    "# MNIST example\n",
    "\n",
    "Simple, 2-minute working example for MiniML.jl"
   ]
  },
  {
   "cell_type": "markdown",
   "metadata": {},
   "source": [
    "## Install the required packages"
   ]
  },
  {
   "cell_type": "code",
   "execution_count": 1,
   "metadata": {},
   "outputs": [
    {
     "name": "stderr",
     "output_type": "stream",
     "text": [
      "\u001b[32m\u001b[1m    Updating\u001b[22m\u001b[39m git-repo `https://github.com/arqamrp/MiniML.jl`\n",
      "\u001b[32m\u001b[1m   Resolving\u001b[22m\u001b[39m package versions...\n",
      "\u001b[32m\u001b[1m  No Changes\u001b[22m\u001b[39m to `~/.julia/environments/v1.11/Project.toml`\n",
      "\u001b[32m\u001b[1m  No Changes\u001b[22m\u001b[39m to `~/.julia/environments/v1.11/Manifest.toml`\n"
     ]
    }
   ],
   "source": [
    "using Pkg\n",
    "Pkg.add(url = \"https://github.com/arqamrp/MiniML.jl\")\n",
    "using MiniML"
   ]
  },
  {
   "cell_type": "code",
   "execution_count": 19,
   "metadata": {
    "scrolled": true
   },
   "outputs": [
    {
     "name": "stderr",
     "output_type": "stream",
     "text": [
      "\u001b[32m\u001b[1m   Resolving\u001b[22m\u001b[39m package versions...\n",
      "\u001b[32m\u001b[1m  No Changes\u001b[22m\u001b[39m to `~/.julia/environments/v1.11/Project.toml`\n",
      "\u001b[32m\u001b[1m  No Changes\u001b[22m\u001b[39m to `~/.julia/environments/v1.11/Manifest.toml`\n",
      "\u001b[32m\u001b[1m   Resolving\u001b[22m\u001b[39m package versions...\n",
      "\u001b[32m\u001b[1m    Updating\u001b[22m\u001b[39m `~/.julia/environments/v1.11/Project.toml`\n",
      "  \u001b[90m[91a5bcdd] \u001b[39m\u001b[92m+ Plots v1.40.9\u001b[39m\n",
      "\u001b[32m\u001b[1m    Updating\u001b[22m\u001b[39m `~/.julia/environments/v1.11/Manifest.toml`\n",
      "  \u001b[90m[d38c429a] \u001b[39m\u001b[92m+ Contour v0.6.3\u001b[39m\n",
      "  \u001b[90m[c87230d0] \u001b[39m\u001b[92m+ FFMPEG v0.4.2\u001b[39m\n",
      "  \u001b[90m[1fa38f19] \u001b[39m\u001b[92m+ Format v1.3.7\u001b[39m\n",
      "  \u001b[90m[28b8d3ca] \u001b[39m\u001b[92m+ GR v0.73.8\u001b[39m\n",
      "  \u001b[90m[42e2da0e] \u001b[39m\u001b[92m+ Grisu v1.0.2\u001b[39m\n",
      "  \u001b[90m[1019f520] \u001b[39m\u001b[92m+ JLFzf v0.1.9\u001b[39m\n",
      "  \u001b[90m[23fbe1c1] \u001b[39m\u001b[92m+ Latexify v0.16.5\u001b[39m\n",
      "  \u001b[90m[442fdcdd] \u001b[39m\u001b[92m+ Measures v0.3.2\u001b[39m\n",
      "  \u001b[90m[77ba4419] \u001b[39m\u001b[92m+ NaNMath v1.0.2\u001b[39m\n",
      "  \u001b[90m[b98c9c47] \u001b[39m\u001b[92m+ Pipe v1.3.0\u001b[39m\n",
      "  \u001b[90m[ccf2f8ad] \u001b[39m\u001b[92m+ PlotThemes v3.3.0\u001b[39m\n",
      "  \u001b[90m[995b91a9] \u001b[39m\u001b[92m+ PlotUtils v1.4.3\u001b[39m\n",
      "  \u001b[90m[91a5bcdd] \u001b[39m\u001b[92m+ Plots v1.40.9\u001b[39m\n",
      "  \u001b[90m[3cdcf5f2] \u001b[39m\u001b[92m+ RecipesBase v1.3.4\u001b[39m\n",
      "  \u001b[90m[01d81517] \u001b[39m\u001b[92m+ RecipesPipeline v0.6.12\u001b[39m\n",
      "  \u001b[90m[05181044] \u001b[39m\u001b[92m+ RelocatableFolders v1.0.1\u001b[39m\n",
      "  \u001b[90m[992d4aef] \u001b[39m\u001b[92m+ Showoff v1.0.3\u001b[39m\n",
      "  \u001b[90m[860ef19b] \u001b[39m\u001b[92m+ StableRNGs v1.0.2\u001b[39m\n",
      "  \u001b[90m[1cfade01] \u001b[39m\u001b[92m+ UnicodeFun v0.4.1\u001b[39m\n",
      "  \u001b[90m[45397f5d] \u001b[39m\u001b[92m+ UnitfulLatexify v1.6.4\u001b[39m\n",
      "  \u001b[90m[41fe7b60] \u001b[39m\u001b[92m+ Unzip v0.2.0\u001b[39m\n",
      "  \u001b[90m[6e34b625] \u001b[39m\u001b[92m+ Bzip2_jll v1.0.8+2\u001b[39m\n",
      "  \u001b[90m[83423d85] \u001b[39m\u001b[92m+ Cairo_jll v1.18.2+1\u001b[39m\n",
      "  \u001b[90m[ee1fde0b] \u001b[39m\u001b[92m+ Dbus_jll v1.14.10+0\u001b[39m\n",
      "  \u001b[90m[2702e6a9] \u001b[39m\u001b[92m+ EpollShim_jll v0.0.20230411+0\u001b[39m\n",
      "  \u001b[90m[2e619515] \u001b[39m\u001b[92m+ Expat_jll v2.6.4+0\u001b[39m\n",
      "\u001b[33m⌅\u001b[39m \u001b[90m[b22a6f82] \u001b[39m\u001b[92m+ FFMPEG_jll v4.4.4+1\u001b[39m\n",
      "  \u001b[90m[a3f928ae] \u001b[39m\u001b[92m+ Fontconfig_jll v2.13.96+0\u001b[39m\n",
      "  \u001b[90m[d7e528f0] \u001b[39m\u001b[92m+ FreeType2_jll v2.13.3+0\u001b[39m\n",
      "  \u001b[90m[559328eb] \u001b[39m\u001b[92m+ FriBidi_jll v1.0.14+0\u001b[39m\n",
      "  \u001b[90m[0656b61e] \u001b[39m\u001b[92m+ GLFW_jll v3.4.0+1\u001b[39m\n",
      "  \u001b[90m[d2c73de3] \u001b[39m\u001b[92m+ GR_jll v0.73.8+0\u001b[39m\n",
      "  \u001b[90m[78b55507] \u001b[39m\u001b[92m+ Gettext_jll v0.21.0+0\u001b[39m\n",
      "  \u001b[90m[7746bdde] \u001b[39m\u001b[92m+ Glib_jll v2.82.2+0\u001b[39m\n",
      "  \u001b[90m[3b182d85] \u001b[39m\u001b[92m+ Graphite2_jll v1.3.14+1\u001b[39m\n",
      "  \u001b[90m[2e76f6c2] \u001b[39m\u001b[92m+ HarfBuzz_jll v8.3.1+0\u001b[39m\n",
      "  \u001b[90m[aacddb02] \u001b[39m\u001b[92m+ JpegTurbo_jll v3.0.4+0\u001b[39m\n",
      "  \u001b[90m[c1c5ebd0] \u001b[39m\u001b[92m+ LAME_jll v3.100.2+0\u001b[39m\n",
      "  \u001b[90m[88015f11] \u001b[39m\u001b[92m+ LERC_jll v4.0.0+0\u001b[39m\n",
      "  \u001b[90m[1d63c593] \u001b[39m\u001b[92m+ LLVMOpenMP_jll v18.1.7+0\u001b[39m\n",
      "  \u001b[90m[dd4b983a] \u001b[39m\u001b[92m+ LZO_jll v2.10.2+1\u001b[39m\n",
      "\u001b[33m⌅\u001b[39m \u001b[90m[e9f186c6] \u001b[39m\u001b[92m+ Libffi_jll v3.2.2+1\u001b[39m\n",
      "  \u001b[90m[d4300ac3] \u001b[39m\u001b[92m+ Libgcrypt_jll v1.11.0+0\u001b[39m\n",
      "  \u001b[90m[7e76a0d4] \u001b[39m\u001b[92m+ Libglvnd_jll v1.6.0+0\u001b[39m\n",
      "  \u001b[90m[7add5ba3] \u001b[39m\u001b[92m+ Libgpg_error_jll v1.50.0+0\u001b[39m\n",
      "  \u001b[90m[4b2f31a3] \u001b[39m\u001b[92m+ Libmount_jll v2.40.2+0\u001b[39m\n",
      "  \u001b[90m[89763e89] \u001b[39m\u001b[92m+ Libtiff_jll v4.7.0+0\u001b[39m\n",
      "  \u001b[90m[38a345b3] \u001b[39m\u001b[92m+ Libuuid_jll v2.40.2+0\u001b[39m\n",
      "  \u001b[90m[e7412a2a] \u001b[39m\u001b[92m+ Ogg_jll v1.3.5+1\u001b[39m\n",
      "  \u001b[90m[91d4177d] \u001b[39m\u001b[92m+ Opus_jll v1.3.3+0\u001b[39m\n",
      "  \u001b[90m[36c8627f] \u001b[39m\u001b[92m+ Pango_jll v1.54.1+0\u001b[39m\n",
      "\u001b[33m⌅\u001b[39m \u001b[90m[30392449] \u001b[39m\u001b[92m+ Pixman_jll v0.43.4+0\u001b[39m\n",
      "  \u001b[90m[c0090381] \u001b[39m\u001b[92m+ Qt6Base_jll v6.7.1+1\u001b[39m\n",
      "  \u001b[90m[629bc702] \u001b[39m\u001b[92m+ Qt6Declarative_jll v6.7.1+2\u001b[39m\n",
      "  \u001b[90m[ce943373] \u001b[39m\u001b[92m+ Qt6ShaderTools_jll v6.7.1+1\u001b[39m\n",
      "  \u001b[90m[e99dba38] \u001b[39m\u001b[92m+ Qt6Wayland_jll v6.7.1+1\u001b[39m\n",
      "  \u001b[90m[a44049a8] \u001b[39m\u001b[92m+ Vulkan_Loader_jll v1.3.243+0\u001b[39m\n",
      "  \u001b[90m[a2964d1f] \u001b[39m\u001b[92m+ Wayland_jll v1.21.0+1\u001b[39m\n",
      "  \u001b[90m[2381bf8a] \u001b[39m\u001b[92m+ Wayland_protocols_jll v1.31.0+0\u001b[39m\n",
      "  \u001b[90m[02c8fc9c] \u001b[39m\u001b[92m+ XML2_jll v2.13.5+0\u001b[39m\n",
      "  \u001b[90m[aed1982a] \u001b[39m\u001b[92m+ XSLT_jll v1.1.41+0\u001b[39m\n",
      "  \u001b[90m[ffd25f8a] \u001b[39m\u001b[92m+ XZ_jll v5.6.3+0\u001b[39m\n",
      "  \u001b[90m[f67eecfb] \u001b[39m\u001b[92m+ Xorg_libICE_jll v1.1.1+0\u001b[39m\n",
      "  \u001b[90m[c834827a] \u001b[39m\u001b[92m+ Xorg_libSM_jll v1.2.4+0\u001b[39m\n",
      "  \u001b[90m[4f6342f7] \u001b[39m\u001b[92m+ Xorg_libX11_jll v1.8.6+0\u001b[39m\n",
      "  \u001b[90m[0c0b7dd1] \u001b[39m\u001b[92m+ Xorg_libXau_jll v1.0.11+1\u001b[39m\n",
      "  \u001b[90m[935fb764] \u001b[39m\u001b[92m+ Xorg_libXcursor_jll v1.2.0+4\u001b[39m\n",
      "  \u001b[90m[a3789734] \u001b[39m\u001b[92m+ Xorg_libXdmcp_jll v1.1.4+1\u001b[39m\n",
      "  \u001b[90m[1082639a] \u001b[39m\u001b[92m+ Xorg_libXext_jll v1.3.6+0\u001b[39m\n",
      "  \u001b[90m[d091e8ba] \u001b[39m\u001b[92m+ Xorg_libXfixes_jll v5.0.3+4\u001b[39m\n",
      "  \u001b[90m[a51aa0fd] \u001b[39m\u001b[92m+ Xorg_libXi_jll v1.7.10+4\u001b[39m\n",
      "  \u001b[90m[d1454406] \u001b[39m\u001b[92m+ Xorg_libXinerama_jll v1.1.4+4\u001b[39m\n",
      "  \u001b[90m[ec84b674] \u001b[39m\u001b[92m+ Xorg_libXrandr_jll v1.5.2+4\u001b[39m\n",
      "  \u001b[90m[ea2f1a96] \u001b[39m\u001b[92m+ Xorg_libXrender_jll v0.9.11+0\u001b[39m\n",
      "  \u001b[90m[14d82f49] \u001b[39m\u001b[92m+ Xorg_libpthread_stubs_jll v0.1.1+1\u001b[39m\n",
      "  \u001b[90m[c7cfdc94] \u001b[39m\u001b[92m+ Xorg_libxcb_jll v1.17.0+0\u001b[39m\n",
      "  \u001b[90m[cc61e674] \u001b[39m\u001b[92m+ Xorg_libxkbfile_jll v1.1.2+0\u001b[39m\n",
      "  \u001b[90m[e920d4aa] \u001b[39m\u001b[92m+ Xorg_xcb_util_cursor_jll v0.1.4+0\u001b[39m\n",
      "  \u001b[90m[12413925] \u001b[39m\u001b[92m+ Xorg_xcb_util_image_jll v0.4.0+1\u001b[39m\n",
      "  \u001b[90m[2def613f] \u001b[39m\u001b[92m+ Xorg_xcb_util_jll v0.4.0+1\u001b[39m\n",
      "  \u001b[90m[975044d2] \u001b[39m\u001b[92m+ Xorg_xcb_util_keysyms_jll v0.4.0+1\u001b[39m\n",
      "  \u001b[90m[0d47668e] \u001b[39m\u001b[92m+ Xorg_xcb_util_renderutil_jll v0.3.9+1\u001b[39m\n",
      "  \u001b[90m[c22f9ab0] \u001b[39m\u001b[92m+ Xorg_xcb_util_wm_jll v0.4.1+1\u001b[39m\n",
      "  \u001b[90m[35661453] \u001b[39m\u001b[92m+ Xorg_xkbcomp_jll v1.4.6+0\u001b[39m\n",
      "  \u001b[90m[33bec58e] \u001b[39m\u001b[92m+ Xorg_xkeyboard_config_jll v2.39.0+0\u001b[39m\n",
      "  \u001b[90m[c5fb5394] \u001b[39m\u001b[92m+ Xorg_xtrans_jll v1.5.0+1\u001b[39m\n",
      "  \u001b[90m[3161d3a3] \u001b[39m\u001b[92m+ Zstd_jll v1.5.6+1\u001b[39m\n",
      "  \u001b[90m[35ca27e7] \u001b[39m\u001b[92m+ eudev_jll v3.2.9+0\u001b[39m\n",
      "  \u001b[90m[214eeab7] \u001b[39m\u001b[92m+ fzf_jll v0.56.3+0\u001b[39m\n",
      "  \u001b[90m[1a1c6b14] \u001b[39m\u001b[92m+ gperf_jll v3.1.1+0\u001b[39m\n",
      "  \u001b[90m[a4ae2306] \u001b[39m\u001b[92m+ libaom_jll v3.9.0+0\u001b[39m\n",
      "  \u001b[90m[0ac62f75] \u001b[39m\u001b[92m+ libass_jll v0.15.2+0\u001b[39m\n",
      "  \u001b[90m[1183f4f0] \u001b[39m\u001b[92m+ libdecor_jll v0.2.2+0\u001b[39m\n",
      "  \u001b[90m[2db6ffa8] \u001b[39m\u001b[92m+ libevdev_jll v1.11.0+0\u001b[39m\n",
      "  \u001b[90m[f638f0a6] \u001b[39m\u001b[92m+ libfdk_aac_jll v2.0.3+0\u001b[39m\n",
      "  \u001b[90m[36db933b] \u001b[39m\u001b[92m+ libinput_jll v1.18.0+0\u001b[39m\n",
      "  \u001b[90m[b53b4c65] \u001b[39m\u001b[92m+ libpng_jll v1.6.44+0\u001b[39m\n",
      "  \u001b[90m[f27f6e37] \u001b[39m\u001b[92m+ libvorbis_jll v1.3.7+2\u001b[39m\n",
      "  \u001b[90m[009596ad] \u001b[39m\u001b[92m+ mtdev_jll v1.1.6+0\u001b[39m\n",
      "\u001b[33m⌅\u001b[39m \u001b[90m[1270edf5] \u001b[39m\u001b[92m+ x264_jll v2021.5.5+0\u001b[39m\n",
      "\u001b[33m⌅\u001b[39m \u001b[90m[dfaa095f] \u001b[39m\u001b[92m+ x265_jll v3.5.0+0\u001b[39m\n",
      "  \u001b[90m[d8fb68d0] \u001b[39m\u001b[92m+ xkbcommon_jll v1.4.1+1\u001b[39m\n",
      "  \u001b[90m[05823500] \u001b[39m\u001b[92m+ OpenLibm_jll v0.8.1+2\u001b[39m\n",
      "  \u001b[90m[efcefdf7] \u001b[39m\u001b[92m+ PCRE2_jll v10.42.0+1\u001b[39m\n",
      "\u001b[36m\u001b[1m        Info\u001b[22m\u001b[39m Packages marked with \u001b[33m⌅\u001b[39m have new versions available but compatibility constraints restrict them from upgrading. To see why use `status --outdated -m`\n",
      "\u001b[92m\u001b[1mPrecompiling\u001b[22m\u001b[39m project...\n",
      "   1304.0 ms\u001b[32m  ✓ \u001b[39m\u001b[90mPipe\u001b[39m\n",
      "   2132.4 ms\u001b[32m  ✓ \u001b[39m\u001b[90mContour\u001b[39m\n",
      "   1341.5 ms\u001b[32m  ✓ \u001b[39m\u001b[90mMeasures\u001b[39m\n",
      "   1941.1 ms\u001b[32m  ✓ \u001b[39m\u001b[90mGrisu\u001b[39m\n",
      "   1196.3 ms\u001b[32m  ✓ \u001b[39m\u001b[90mStableRNGs\u001b[39m\n",
      "   2523.2 ms\u001b[32m  ✓ \u001b[39m\u001b[90mFormat\u001b[39m\n",
      "   1210.1 ms\u001b[32m  ✓ \u001b[39m\u001b[90mNaNMath\u001b[39m\n",
      "   1395.4 ms\u001b[32m  ✓ \u001b[39m\u001b[90mUnzip\u001b[39m\n",
      "   1150.1 ms\u001b[32m  ✓ \u001b[39m\u001b[90mRelocatableFolders\u001b[39m\n",
      "   1222.4 ms\u001b[32m  ✓ \u001b[39m\u001b[90mEpollShim_jll\u001b[39m\n",
      "   1265.1 ms\u001b[32m  ✓ \u001b[39m\u001b[90mLibmount_jll\u001b[39m\n",
      "   1257.6 ms\u001b[32m  ✓ \u001b[39m\u001b[90mLLVMOpenMP_jll\u001b[39m\n",
      "   1126.4 ms\u001b[32m  ✓ \u001b[39m\u001b[90mXorg_libICE_jll\u001b[39m\n",
      "   1092.1 ms\u001b[32m  ✓ \u001b[39m\u001b[90mXorg_libXau_jll\u001b[39m\n",
      "   1173.6 ms\u001b[32m  ✓ \u001b[39m\u001b[90mlibpng_jll\u001b[39m\n",
      "   1158.3 ms\u001b[32m  ✓ \u001b[39m\u001b[90mlibfdk_aac_jll\u001b[39m\n",
      "   2644.0 ms\u001b[32m  ✓ \u001b[39m\u001b[90mUnicodeFun\u001b[39m\n",
      "   1156.6 ms\u001b[32m  ✓ \u001b[39m\u001b[90mLAME_jll\u001b[39m\n",
      "   1182.4 ms\u001b[32m  ✓ \u001b[39m\u001b[90mLERC_jll\u001b[39m\n",
      "   1148.0 ms\u001b[32m  ✓ \u001b[39m\u001b[90mfzf_jll\u001b[39m\n",
      "   1224.8 ms\u001b[32m  ✓ \u001b[39m\u001b[90mJpegTurbo_jll\u001b[39m\n",
      "   1228.9 ms\u001b[32m  ✓ \u001b[39m\u001b[90mXZ_jll\u001b[39m\n",
      "   1039.4 ms\u001b[32m  ✓ \u001b[39m\u001b[90mXorg_libXdmcp_jll\u001b[39m\n",
      "   1135.6 ms\u001b[32m  ✓ \u001b[39m\u001b[90mlibaom_jll\u001b[39m\n",
      "   1124.2 ms\u001b[32m  ✓ \u001b[39m\u001b[90mZstd_jll\u001b[39m\n",
      "   1098.1 ms\u001b[32m  ✓ \u001b[39m\u001b[90mExpat_jll\u001b[39m\n",
      "   1096.2 ms\u001b[32m  ✓ \u001b[39m\u001b[90mLZO_jll\u001b[39m\n",
      "   1077.1 ms\u001b[32m  ✓ \u001b[39m\u001b[90mOpus_jll\u001b[39m\n",
      "   1002.0 ms\u001b[32m  ✓ \u001b[39m\u001b[90mXorg_xtrans_jll\u001b[39m\n",
      "   1042.6 ms\u001b[32m  ✓ \u001b[39m\u001b[90mLibgpg_error_jll\u001b[39m\n",
      "    984.3 ms\u001b[32m  ✓ \u001b[39m\u001b[90mXorg_libpthread_stubs_jll\u001b[39m\n",
      "    982.1 ms\u001b[32m  ✓ \u001b[39m\u001b[90mLibuuid_jll\u001b[39m\n",
      "   1077.6 ms\u001b[32m  ✓ \u001b[39m\u001b[90mFriBidi_jll\u001b[39m\n",
      "   1310.1 ms\u001b[32m  ✓ \u001b[39m\u001b[90mXML2_jll\u001b[39m\n",
      "   1153.6 ms\u001b[32m  ✓ \u001b[39m\u001b[90mGraphite2_jll\u001b[39m\n",
      "   1141.3 ms\u001b[32m  ✓ \u001b[39m\u001b[90mBzip2_jll\u001b[39m\n",
      "   1145.1 ms\u001b[32m  ✓ \u001b[39m\u001b[90mOgg_jll\u001b[39m\n",
      "   1088.3 ms\u001b[32m  ✓ \u001b[39m\u001b[90mmtdev_jll\u001b[39m\n",
      "   1121.3 ms\u001b[32m  ✓ \u001b[39m\u001b[90mgperf_jll\u001b[39m\n",
      "   2547.8 ms\u001b[32m  ✓ \u001b[39m\u001b[90mRecipesBase\u001b[39m\n",
      "   1162.3 ms\u001b[32m  ✓ \u001b[39m\u001b[90mx265_jll\u001b[39m\n",
      "   1185.8 ms\u001b[32m  ✓ \u001b[39m\u001b[90mx264_jll\u001b[39m\n",
      "   1002.3 ms\u001b[32m  ✓ \u001b[39m\u001b[90mlibevdev_jll\u001b[39m\n",
      "    934.7 ms\u001b[32m  ✓ \u001b[39m\u001b[90mShowoff\u001b[39m\n",
      "   1042.0 ms\u001b[32m  ✓ \u001b[39m\u001b[90mWayland_protocols_jll\u001b[39m\n",
      "   1088.7 ms\u001b[32m  ✓ \u001b[39m\u001b[90mLibffi_jll\u001b[39m\n",
      "    802.7 ms\u001b[32m  ✓ \u001b[39m\u001b[90mXorg_libSM_jll\u001b[39m\n",
      "   2868.8 ms\u001b[32m  ✓ \u001b[39m\u001b[90mPixman_jll\u001b[39m\n",
      "   1062.5 ms\u001b[32m  ✓ \u001b[39m\u001b[90mDbus_jll\u001b[39m\n",
      "   4022.5 ms\u001b[32m  ✓ \u001b[39m\u001b[90mLatexify\u001b[39m\n",
      "   3949.9 ms\u001b[32m  ✓ \u001b[39m\u001b[90mJLFzf\u001b[39m\n",
      "   2368.5 ms\u001b[32m  ✓ \u001b[39m\u001b[90mLibgcrypt_jll\u001b[39m\n",
      "   2967.3 ms\u001b[32m  ✓ \u001b[39m\u001b[90mFreeType2_jll\u001b[39m\n",
      "   3527.4 ms\u001b[32m  ✓ \u001b[39m\u001b[90mGettext_jll\u001b[39m\n",
      "   7051.7 ms\u001b[32m  ✓ \u001b[39m\u001b[90mLibtiff_jll\u001b[39m\n",
      "   1092.5 ms\u001b[32m  ✓ \u001b[39m\u001b[90meudev_jll\u001b[39m\n",
      "   2174.4 ms\u001b[32m  ✓ \u001b[39m\u001b[90mlibvorbis_jll\u001b[39m\n",
      "   1302.1 ms\u001b[32m  ✓ \u001b[39m\u001b[90mWayland_jll\u001b[39m\n",
      "   4519.7 ms\u001b[32m  ✓ \u001b[39m\u001b[90mLatexify → SparseArraysExt\u001b[39m\n",
      "   4355.6 ms\u001b[32m  ✓ \u001b[39m\u001b[90mXSLT_jll\u001b[39m\n",
      "   5511.9 ms\u001b[32m  ✓ \u001b[39m\u001b[90mLatexify → DataFramesExt\u001b[39m\n",
      "  14467.2 ms\u001b[32m  ✓ \u001b[39m\u001b[90mPlotUtils\u001b[39m\n",
      "   5365.3 ms\u001b[32m  ✓ \u001b[39m\u001b[90mFontconfig_jll\u001b[39m\n",
      "   1464.6 ms\u001b[32m  ✓ \u001b[39m\u001b[90mlibinput_jll\u001b[39m\n",
      "   1248.7 ms\u001b[32m  ✓ \u001b[39m\u001b[90mXorg_libxcb_jll\u001b[39m\n",
      "   3060.4 ms\u001b[32m  ✓ \u001b[39m\u001b[90mGlib_jll\u001b[39m\n",
      "   1250.4 ms\u001b[32m  ✓ \u001b[39m\u001b[90mXorg_xcb_util_jll\u001b[39m\n",
      "   1293.5 ms\u001b[32m  ✓ \u001b[39m\u001b[90mXorg_libX11_jll\u001b[39m\n",
      "   3176.3 ms\u001b[32m  ✓ \u001b[39m\u001b[90mUnitfulLatexify\u001b[39m\n",
      "   1186.2 ms\u001b[32m  ✓ \u001b[39m\u001b[90mXorg_xcb_util_image_jll\u001b[39m\n",
      "   1035.4 ms\u001b[32m  ✓ \u001b[39m\u001b[90mXorg_xcb_util_keysyms_jll\u001b[39m\n",
      "   1000.8 ms\u001b[32m  ✓ \u001b[39m\u001b[90mXorg_xcb_util_renderutil_jll\u001b[39m\n",
      "   1117.0 ms\u001b[32m  ✓ \u001b[39m\u001b[90mXorg_xcb_util_wm_jll\u001b[39m\n",
      "   1177.9 ms\u001b[32m  ✓ \u001b[39m\u001b[90mXorg_libXrender_jll\u001b[39m\n",
      "   1175.6 ms\u001b[32m  ✓ \u001b[39m\u001b[90mXorg_libXext_jll\u001b[39m\n",
      "   1181.8 ms\u001b[32m  ✓ \u001b[39m\u001b[90mXorg_libXfixes_jll\u001b[39m\n",
      "   5717.1 ms\u001b[32m  ✓ \u001b[39m\u001b[90mPlotThemes\u001b[39m\n",
      "   1261.7 ms\u001b[32m  ✓ \u001b[39m\u001b[90mXorg_libxkbfile_jll\u001b[39m\n",
      "   1255.9 ms\u001b[32m  ✓ \u001b[39m\u001b[90mXorg_xcb_util_cursor_jll\u001b[39m\n",
      "   1271.5 ms\u001b[32m  ✓ \u001b[39m\u001b[90mXorg_libXinerama_jll\u001b[39m\n",
      "   1405.7 ms\u001b[32m  ✓ \u001b[39m\u001b[90mXorg_libXrandr_jll\u001b[39m\n",
      "   1448.4 ms\u001b[32m  ✓ \u001b[39m\u001b[90mLibglvnd_jll\u001b[39m\n",
      "   1464.3 ms\u001b[32m  ✓ \u001b[39m\u001b[90mXorg_libXcursor_jll\u001b[39m\n",
      "   1364.7 ms\u001b[32m  ✓ \u001b[39m\u001b[90mXorg_libXi_jll\u001b[39m\n",
      "   1184.3 ms\u001b[32m  ✓ \u001b[39m\u001b[90mXorg_xkbcomp_jll\u001b[39m\n",
      "   8642.4 ms\u001b[32m  ✓ \u001b[39m\u001b[90mRecipesPipeline\u001b[39m\n",
      "   1262.1 ms\u001b[32m  ✓ \u001b[39m\u001b[90mXorg_xkeyboard_config_jll\u001b[39m\n",
      "    664.9 ms\u001b[32m  ✓ \u001b[39m\u001b[90mxkbcommon_jll\u001b[39m\n",
      "    721.8 ms\u001b[32m  ✓ \u001b[39m\u001b[90mVulkan_Loader_jll\u001b[39m\n",
      "   6079.7 ms\u001b[32m  ✓ \u001b[39m\u001b[90mCairo_jll\u001b[39m\n",
      "   4366.7 ms\u001b[32m  ✓ \u001b[39m\u001b[90mHarfBuzz_jll\u001b[39m\n",
      "   7435.9 ms\u001b[32m  ✓ \u001b[39m\u001b[90mQt6Base_jll\u001b[39m\n",
      "   3391.2 ms\u001b[32m  ✓ \u001b[39m\u001b[90mlibass_jll\u001b[39m\n",
      "   3412.8 ms\u001b[32m  ✓ \u001b[39m\u001b[90mPango_jll\u001b[39m\n",
      "    633.0 ms\u001b[32m  ✓ \u001b[39m\u001b[90mlibdecor_jll\u001b[39m\n",
      "    617.4 ms\u001b[32m  ✓ \u001b[39m\u001b[90mGLFW_jll\u001b[39m\n",
      "   6616.1 ms\u001b[32m  ✓ \u001b[39m\u001b[90mQt6ShaderTools_jll\u001b[39m\n",
      "   2616.7 ms\u001b[32m  ✓ \u001b[39m\u001b[90mQt6Declarative_jll\u001b[39m\n",
      "   8236.0 ms\u001b[32m  ✓ \u001b[39m\u001b[90mFFMPEG_jll\u001b[39m\n",
      "    573.5 ms\u001b[32m  ✓ \u001b[39m\u001b[90mQt6Wayland_jll\u001b[39m\n",
      "   4048.6 ms\u001b[32m  ✓ \u001b[39m\u001b[90mFFMPEG\u001b[39m\n",
      "   5460.4 ms\u001b[32m  ✓ \u001b[39m\u001b[90mGR_jll\u001b[39m\n",
      "   3623.5 ms\u001b[32m  ✓ \u001b[39m\u001b[90mGR\u001b[39m\n",
      "  84521.4 ms\u001b[32m  ✓ \u001b[39mPlots\n",
      "   6165.4 ms\u001b[32m  ✓ \u001b[39mPlots → FileIOExt\n",
      "   6342.1 ms\u001b[32m  ✓ \u001b[39mPlots → IJuliaExt\n",
      "   6444.8 ms\u001b[32m  ✓ \u001b[39mPlots → UnitfulExt\n",
      "  107 dependencies successfully precompiled in 156 seconds. 216 already precompiled.\n"
     ]
    }
   ],
   "source": [
    "Pkg.add(\"MLDatasets\")\n",
    "Pkg.add(\"Plots\")"
   ]
  },
  {
   "cell_type": "markdown",
   "metadata": {},
   "source": [
    "## Download MNIST"
   ]
  },
  {
   "cell_type": "code",
   "execution_count": 3,
   "metadata": {},
   "outputs": [
    {
     "name": "stderr",
     "output_type": "stream",
     "text": [
      "\u001b[33m\u001b[1m┌ \u001b[22m\u001b[39m\u001b[33m\u001b[1mWarning: \u001b[22m\u001b[39mMNIST.traindata() is deprecated, use `MNIST(split=:train)[:]` instead.\n",
      "\u001b[33m\u001b[1m└ \u001b[22m\u001b[39m\u001b[90m@ MLDatasets ~/.julia/packages/MLDatasets/0MkOE/src/datasets/vision/mnist.jl:187\u001b[39m\n",
      "\u001b[33m\u001b[1m┌ \u001b[22m\u001b[39m\u001b[33m\u001b[1mWarning: \u001b[22m\u001b[39mMNIST.testdata() is deprecated, use `MNIST(split=:test)[:]` instead.\n",
      "\u001b[33m\u001b[1m└ \u001b[22m\u001b[39m\u001b[90m@ MLDatasets ~/.julia/packages/MLDatasets/0MkOE/src/datasets/vision/mnist.jl:195\u001b[39m\n"
     ]
    },
    {
     "data": {
      "text/plain": [
       "(features = FixedPointNumbers.N0f8[0.0N0f8 0.0N0f8 … 0.0N0f8 0.0N0f8; 0.0N0f8 0.0N0f8 … 0.0N0f8 0.0N0f8; … ; 0.0N0f8 0.0N0f8 … 0.0N0f8 0.0N0f8; 0.0N0f8 0.0N0f8 … 0.0N0f8 0.0N0f8;;; 0.0N0f8 0.0N0f8 … 0.0N0f8 0.0N0f8; 0.0N0f8 0.0N0f8 … 0.0N0f8 0.0N0f8; … ; 0.0N0f8 0.0N0f8 … 0.0N0f8 0.0N0f8; 0.0N0f8 0.0N0f8 … 0.0N0f8 0.0N0f8;;; 0.0N0f8 0.0N0f8 … 0.0N0f8 0.0N0f8; 0.0N0f8 0.0N0f8 … 0.0N0f8 0.0N0f8; … ; 0.0N0f8 0.0N0f8 … 0.0N0f8 0.0N0f8; 0.0N0f8 0.0N0f8 … 0.0N0f8 0.0N0f8;;; … ;;; 0.0N0f8 0.0N0f8 … 0.0N0f8 0.0N0f8; 0.0N0f8 0.0N0f8 … 0.0N0f8 0.0N0f8; … ; 0.0N0f8 0.0N0f8 … 0.0N0f8 0.0N0f8; 0.0N0f8 0.0N0f8 … 0.0N0f8 0.0N0f8;;; 0.0N0f8 0.0N0f8 … 0.0N0f8 0.0N0f8; 0.0N0f8 0.0N0f8 … 0.0N0f8 0.0N0f8; … ; 0.0N0f8 0.0N0f8 … 0.0N0f8 0.0N0f8; 0.0N0f8 0.0N0f8 … 0.0N0f8 0.0N0f8;;; 0.0N0f8 0.0N0f8 … 0.0N0f8 0.0N0f8; 0.0N0f8 0.0N0f8 … 0.0N0f8 0.0N0f8; … ; 0.0N0f8 0.0N0f8 … 0.0N0f8 0.0N0f8; 0.0N0f8 0.0N0f8 … 0.0N0f8 0.0N0f8], targets = [7, 2, 1, 0, 4, 1, 4, 9, 5, 9  …  7, 8, 9, 0, 1, 2, 3, 4, 5, 6])"
      ]
     },
     "execution_count": 3,
     "metadata": {},
     "output_type": "execute_result"
    }
   ],
   "source": [
    "using MLDatasets\n",
    "\n",
    "train_x, train_y = MNIST.traindata()\n",
    "test_x, test_y = MNIST.testdata()"
   ]
  },
  {
   "cell_type": "markdown",
   "metadata": {},
   "source": [
    "## Preprocess the data\n",
    "\n",
    "Flatten the 3D tensor into 2D and split into shuffled batches"
   ]
  },
  {
   "cell_type": "code",
   "execution_count": 4,
   "metadata": {},
   "outputs": [
    {
     "data": {
      "text/plain": [
       "784×60000 Matrix{Float64}:\n",
       " 0.0  0.0  0.0  0.0  0.0  0.0  0.0  0.0  …  0.0  0.0  0.0  0.0  0.0  0.0  0.0\n",
       " 0.0  0.0  0.0  0.0  0.0  0.0  0.0  0.0     0.0  0.0  0.0  0.0  0.0  0.0  0.0\n",
       " 0.0  0.0  0.0  0.0  0.0  0.0  0.0  0.0     0.0  0.0  0.0  0.0  0.0  0.0  0.0\n",
       " 0.0  0.0  0.0  0.0  0.0  0.0  0.0  0.0     0.0  0.0  0.0  0.0  0.0  0.0  0.0\n",
       " 0.0  0.0  0.0  0.0  0.0  0.0  0.0  0.0     0.0  0.0  0.0  0.0  0.0  0.0  0.0\n",
       " 0.0  0.0  0.0  0.0  0.0  0.0  0.0  0.0  …  0.0  0.0  0.0  0.0  0.0  0.0  0.0\n",
       " 0.0  0.0  0.0  0.0  0.0  0.0  0.0  0.0     0.0  0.0  0.0  0.0  0.0  0.0  0.0\n",
       " 0.0  0.0  0.0  0.0  0.0  0.0  0.0  0.0     0.0  0.0  0.0  0.0  0.0  0.0  0.0\n",
       " 0.0  0.0  0.0  0.0  0.0  0.0  0.0  0.0     0.0  0.0  0.0  0.0  0.0  0.0  0.0\n",
       " 0.0  0.0  0.0  0.0  0.0  0.0  0.0  0.0     0.0  0.0  0.0  0.0  0.0  0.0  0.0\n",
       " 0.0  0.0  0.0  0.0  0.0  0.0  0.0  0.0  …  0.0  0.0  0.0  0.0  0.0  0.0  0.0\n",
       " 0.0  0.0  0.0  0.0  0.0  0.0  0.0  0.0     0.0  0.0  0.0  0.0  0.0  0.0  0.0\n",
       " 0.0  0.0  0.0  0.0  0.0  0.0  0.0  0.0     0.0  0.0  0.0  0.0  0.0  0.0  0.0\n",
       " ⋮                        ⋮              ⋱            ⋮                   \n",
       " 0.0  0.0  0.0  0.0  0.0  0.0  0.0  0.0     0.0  0.0  0.0  0.0  0.0  0.0  0.0\n",
       " 0.0  0.0  0.0  0.0  0.0  0.0  0.0  0.0     0.0  0.0  0.0  0.0  0.0  0.0  0.0\n",
       " 0.0  0.0  0.0  0.0  0.0  0.0  0.0  0.0     0.0  0.0  0.0  0.0  0.0  0.0  0.0\n",
       " 0.0  0.0  0.0  0.0  0.0  0.0  0.0  0.0  …  0.0  0.0  0.0  0.0  0.0  0.0  0.0\n",
       " 0.0  0.0  0.0  0.0  0.0  0.0  0.0  0.0     0.0  0.0  0.0  0.0  0.0  0.0  0.0\n",
       " 0.0  0.0  0.0  0.0  0.0  0.0  0.0  0.0     0.0  0.0  0.0  0.0  0.0  0.0  0.0\n",
       " 0.0  0.0  0.0  0.0  0.0  0.0  0.0  0.0     0.0  0.0  0.0  0.0  0.0  0.0  0.0\n",
       " 0.0  0.0  0.0  0.0  0.0  0.0  0.0  0.0     0.0  0.0  0.0  0.0  0.0  0.0  0.0\n",
       " 0.0  0.0  0.0  0.0  0.0  0.0  0.0  0.0  …  0.0  0.0  0.0  0.0  0.0  0.0  0.0\n",
       " 0.0  0.0  0.0  0.0  0.0  0.0  0.0  0.0     0.0  0.0  0.0  0.0  0.0  0.0  0.0\n",
       " 0.0  0.0  0.0  0.0  0.0  0.0  0.0  0.0     0.0  0.0  0.0  0.0  0.0  0.0  0.0\n",
       " 0.0  0.0  0.0  0.0  0.0  0.0  0.0  0.0     0.0  0.0  0.0  0.0  0.0  0.0  0.0"
      ]
     },
     "execution_count": 4,
     "metadata": {},
     "output_type": "execute_result"
    }
   ],
   "source": [
    "X_test = Float64.(test_x)\n",
    "X_test = reshape(X_test, (784, 10000))\n",
    "y_test = Int64.(test_y)\n",
    "\n",
    "y_train = Int64.(train_y)\n",
    "X_train= reshape(train_x, (784, 60000))\n",
    "X_train = Float64.(X_train)"
   ]
  },
  {
   "cell_type": "code",
   "execution_count": 5,
   "metadata": {},
   "outputs": [
    {
     "name": "stdout",
     "output_type": "stream",
     "text": [
      "(784, 500)\n",
      "(10, 500)\n"
     ]
    }
   ],
   "source": [
    "batch_size = 500\n",
    "\n",
    "X_batches, y_batches = MiniML.make_batches(X_train, y_train, batch_size)\n",
    "\n",
    "# Check size of first batch\n",
    "println(size(X_batches[1]))  \n",
    "println(size(y_batches[1]))  "
   ]
  },
  {
   "cell_type": "markdown",
   "metadata": {},
   "source": [
    "## Initialise the neural network"
   ]
  },
  {
   "cell_type": "code",
   "execution_count": 6,
   "metadata": {},
   "outputs": [
    {
     "data": {
      "text/plain": [
       "NeuralNet((784, 128, 10), Dict{Integer, Tuple{Vararg{Tensor}}}(2 => (Tensor{Float64}((10, 128), Float64, [2.522172514526373 -1.2490756922110948 … 0.5316295339201356 0.1724806202219627; -0.8987588225094336 -0.09151155246158568 … 1.664607864704522 -0.10666877412936226; … ; 0.2280644820354243 -0.9878401124554524 … 0.27373164803637284 0.11350583546880284; 1.0419474588733233 -0.015234615806731211 … 0.3311099362899764 1.015401911521106], [0.0 0.0 … 0.0 0.0; 0.0 0.0 … 0.0 0.0; … ; 0.0 0.0 … 0.0 0.0; 0.0 0.0 … 0.0 0.0], true, true, (), \"\", nothing), Tensor{Float64}((10, 1), Float64, [-0.22422378406058216; 1.6703485559881408; … ; 2.2169966208809897; 1.0455188917563965;;], [0.0; 0.0; … ; 0.0; 0.0;;], true, true, (), \"\", nothing)), 1 => (Tensor{Float64}((128, 784), Float64, [-0.08001464150412627 -0.34479220979743186 … -0.05242981903513844 0.6308101798691935; -0.8763178487763076 0.21551217987602067 … -0.8949696692373208 -0.8253922615583222; … ; -1.7755235921659411 -0.4478164880196054 … 1.1321326383671093 -0.36040379789480465; 0.44103147002426074 1.0319002976464446 … 0.82047459533609 -0.697189336665282], [0.0 0.0 … 0.0 0.0; 0.0 0.0 … 0.0 0.0; … ; 0.0 0.0 … 0.0 0.0; 0.0 0.0 … 0.0 0.0], true, true, (), \"\", nothing), Tensor{Float64}((128, 1), Float64, [-0.24452947462362695; 0.41763526032373394; … ; 0.6092410132785799; 0.22085356177700163;;], [0.0; 0.0; … ; 0.0; 0.0;;], true, true, (), \"\", nothing))), MiniML.relu, MiniML.softmax)"
      ]
     },
     "execution_count": 6,
     "metadata": {},
     "output_type": "execute_result"
    }
   ],
   "source": [
    "layer_dims = (784, 128, 10)\n",
    "model = NeuralNet(layer_dims; activation_fn = MiniML.relu, postprocess_fn = MiniML.softmax)"
   ]
  },
  {
   "cell_type": "markdown",
   "metadata": {},
   "source": [
    "## Training"
   ]
  },
  {
   "cell_type": "code",
   "execution_count": 9,
   "metadata": {},
   "outputs": [
    {
     "name": "stdout",
     "output_type": "stream",
     "text": [
      "Epoch 1\n",
      "7.471549367427351\n",
      "Epoch 2\n",
      "3.770550592792499\n",
      "Epoch 3\n",
      "3.333397216686449\n",
      "Epoch 4\n",
      "3.1078686884916187\n",
      "Epoch 5\n",
      "2.9692531815717427\n",
      "Epoch 6\n",
      "2.8722521658843236\n",
      "Epoch 7\n",
      "2.7959242583266595\n",
      "Epoch 8\n",
      "2.7165027538049795\n",
      "Epoch 9\n",
      "0.6405885044968403\n",
      "Epoch 10\n",
      "0.4187518916600832\n",
      "Epoch 11\n",
      "0.34332680650000114\n",
      "Epoch 12\n",
      "0.29358764742472515\n",
      "Epoch 13\n",
      "0.25704556439439946\n",
      "Epoch 14\n",
      "0.2302342466894927\n",
      "Epoch 15\n",
      "0.2098334928941305\n",
      "Epoch 16\n",
      "0.19404485880060204\n",
      "Epoch 17\n",
      "0.17818049651379136\n",
      "Epoch 18\n",
      "0.16516414514311156\n",
      "Epoch 19\n",
      "0.1541119138487336\n",
      "Epoch 20\n",
      "0.14445630102394616\n",
      "Epoch 21\n",
      "0.13686217934951164\n",
      "Epoch 22\n",
      "0.13105610866255374\n",
      "Epoch 23\n",
      "0.12535866238313526\n",
      "Epoch 24\n",
      "0.12011774478103684\n",
      "Epoch 25\n",
      "0.11576375335054333\n",
      "Epoch 26\n",
      "0.11183127036013545\n",
      "Epoch 27\n",
      "0.10844727812661833\n",
      "Epoch 28\n",
      "0.10542709220199213\n",
      "Epoch 29\n",
      "0.10300353934812957\n",
      "Epoch 30\n",
      "0.10061471226916055\n",
      "Epoch 31\n",
      "0.0985937157077443\n",
      "Epoch 32\n",
      "0.09686220645452169\n",
      "Epoch 33\n",
      "0.094833283151513\n",
      "Epoch 34\n",
      "0.09312736844225529\n",
      "Epoch 35\n",
      "0.09134917224389691\n",
      "Epoch 36\n",
      "0.08983554191600136\n",
      "Epoch 37\n",
      "0.08834357694854283\n",
      "Epoch 38\n",
      "0.08705311599479235\n",
      "Epoch 39\n",
      "0.08609547363639761\n",
      "Epoch 40\n",
      "0.08506902615090027\n",
      "Epoch 41\n",
      "0.08405250563312675\n",
      "Epoch 42\n",
      "0.08310165742304182\n",
      "Epoch 43\n",
      "0.08223939274975536\n",
      "Epoch 44\n",
      "0.08139282228241605\n",
      "Epoch 45\n",
      "0.08061096581870233\n",
      "Epoch 46\n",
      "0.07980934083234312\n",
      "Epoch 47\n",
      "0.07913067292708606\n",
      "Epoch 48\n",
      "0.07858439596101308\n",
      "Epoch 49\n",
      "0.07812615766353101\n",
      "Epoch 50\n",
      "0.07770606516459334\n"
     ]
    },
    {
     "data": {
      "text/plain": [
       "50-element Vector{Float64}:\n",
       " 7.471549367427351\n",
       " 3.770550592792499\n",
       " 3.333397216686449\n",
       " 3.1078686884916187\n",
       " 2.9692531815717427\n",
       " 2.8722521658843236\n",
       " 2.7959242583266595\n",
       " 2.7165027538049795\n",
       " 0.6405885044968403\n",
       " 0.4187518916600832\n",
       " 0.34332680650000114\n",
       " 0.29358764742472515\n",
       " 0.25704556439439946\n",
       " ⋮\n",
       " 0.08609547363639761\n",
       " 0.08506902615090027\n",
       " 0.08405250563312675\n",
       " 0.08310165742304182\n",
       " 0.08223939274975536\n",
       " 0.08139282228241605\n",
       " 0.08061096581870233\n",
       " 0.07980934083234312\n",
       " 0.07913067292708606\n",
       " 0.07858439596101308\n",
       " 0.07812615766353101\n",
       " 0.07770606516459334"
      ]
     },
     "execution_count": 9,
     "metadata": {},
     "output_type": "execute_result"
    }
   ],
   "source": [
    "losses = MiniML.batch_train!(model = model, loss_fn = MiniML.categorical_cross_entropy, X_batches= X_batches, y_batches = y_batches, num_epochs = 50, lr = 1e-1)"
   ]
  },
  {
   "cell_type": "code",
   "execution_count": 20,
   "metadata": {},
   "outputs": [
    {
     "data": {
      "image/png": "[encoded data removed]",
      "image/svg+xml": [
       "<?xml version=\"1.0\" encoding=\"utf-8\"?>\n",
       "<svg xmlns=\"http://www.w3.org/2000/svg\" xmlns:xlink=\"http://www.w3.org/1999/xlink\" width=\"600\" height=\"400\" viewBox=\"0 0 2400 1600\">\n",
       "<defs>\n",
       "  <clipPath id=\"clip490\">\n",
       "    <rect x=\"0\" y=\"0\" width=\"2400\" height=\"1600\"/>\n",
       "  </clipPath>\n",
       "</defs>\n",
       "<path clip-path=\"url(#clip490)\" d=\"M0 1600 L2400 1600 L2400 8.88178e-14 L0 8.88178e-14  Z\" fill=\"#ffffff\" fill-rule=\"evenodd\" fill-opacity=\"1\"/>\n",
       "<defs>\n",
       "  <clipPath id=\"clip491\">\n",
       "    <rect x=\"480\" y=\"0\" width=\"1681\" height=\"1600\"/>\n",
       "  </clipPath>\n",
       "</defs>\n",
       "<path clip-path=\"url(#clip490)\" d=\"M175.445 1423.18 L2352.76 1423.18 L2352.76 123.472 L175.445 123.472  Z\" fill=\"#ffffff\" fill-rule=\"evenodd\" fill-opacity=\"1\"/>\n",
       "<defs>\n",
       "  <clipPath id=\"clip492\">\n",
       "    <rect x=\"175\" y=\"123\" width=\"2178\" height=\"1301\"/>\n",
       "  </clipPath>\n",
       "</defs>\n",
       "<polyline clip-path=\"url(#clip492)\" style=\"stroke:#000000; stroke-linecap:round; stroke-linejoin:round; stroke-width:2; stroke-opacity:0.1; fill:none\" points=\"195.147,1423.18 195.147,123.472 \"/>\n",
       "<polyline clip-path=\"url(#clip492)\" style=\"stroke:#000000; stroke-linecap:round; stroke-linejoin:round; stroke-width:2; stroke-opacity:0.1; fill:none\" points=\"614.345,1423.18 614.345,123.472 \"/>\n",
       "<polyline clip-path=\"url(#clip492)\" style=\"stroke:#000000; stroke-linecap:round; stroke-linejoin:round; stroke-width:2; stroke-opacity:0.1; fill:none\" points=\"1033.54,1423.18 1033.54,123.472 \"/>\n",
       "<polyline clip-path=\"url(#clip492)\" style=\"stroke:#000000; stroke-linecap:round; stroke-linejoin:round; stroke-width:2; stroke-opacity:0.1; fill:none\" points=\"1452.74,1423.18 1452.74,123.472 \"/>\n",
       "<polyline clip-path=\"url(#clip492)\" style=\"stroke:#000000; stroke-linecap:round; stroke-linejoin:round; stroke-width:2; stroke-opacity:0.1; fill:none\" points=\"1871.94,1423.18 1871.94,123.472 \"/>\n",
       "<polyline clip-path=\"url(#clip492)\" style=\"stroke:#000000; stroke-linecap:round; stroke-linejoin:round; stroke-width:2; stroke-opacity:0.1; fill:none\" points=\"2291.13,1423.18 2291.13,123.472 \"/>\n",
       "<polyline clip-path=\"url(#clip492)\" style=\"stroke:#000000; stroke-linecap:round; stroke-linejoin:round; stroke-width:2; stroke-opacity:0.1; fill:none\" points=\"175.445,1399.28 2352.76,1399.28 \"/>\n",
       "<polyline clip-path=\"url(#clip492)\" style=\"stroke:#000000; stroke-linecap:round; stroke-linejoin:round; stroke-width:2; stroke-opacity:0.1; fill:none\" points=\"175.445,1067.62 2352.76,1067.62 \"/>\n",
       "<polyline clip-path=\"url(#clip492)\" style=\"stroke:#000000; stroke-linecap:round; stroke-linejoin:round; stroke-width:2; stroke-opacity:0.1; fill:none\" points=\"175.445,735.952 2352.76,735.952 \"/>\n",
       "<polyline clip-path=\"url(#clip492)\" style=\"stroke:#000000; stroke-linecap:round; stroke-linejoin:round; stroke-width:2; stroke-opacity:0.1; fill:none\" points=\"175.445,404.287 2352.76,404.287 \"/>\n",
       "<polyline clip-path=\"url(#clip490)\" style=\"stroke:#000000; stroke-linecap:round; stroke-linejoin:round; stroke-width:4; stroke-opacity:1; fill:none\" points=\"175.445,1423.18 2352.76,1423.18 \"/>\n",
       "<polyline clip-path=\"url(#clip490)\" style=\"stroke:#000000; stroke-linecap:round; stroke-linejoin:round; stroke-width:4; stroke-opacity:1; fill:none\" points=\"195.147,1423.18 195.147,1404.28 \"/>\n",
       "<polyline clip-path=\"url(#clip490)\" style=\"stroke:#000000; stroke-linecap:round; stroke-linejoin:round; stroke-width:4; stroke-opacity:1; fill:none\" points=\"614.345,1423.18 614.345,1404.28 \"/>\n",
       "<polyline clip-path=\"url(#clip490)\" style=\"stroke:#000000; stroke-linecap:round; stroke-linejoin:round; stroke-width:4; stroke-opacity:1; fill:none\" points=\"1033.54,1423.18 1033.54,1404.28 \"/>\n",
       "<polyline clip-path=\"url(#clip490)\" style=\"stroke:#000000; stroke-linecap:round; stroke-linejoin:round; stroke-width:4; stroke-opacity:1; fill:none\" points=\"1452.74,1423.18 1452.74,1404.28 \"/>\n",
       "<polyline clip-path=\"url(#clip490)\" style=\"stroke:#000000; stroke-linecap:round; stroke-linejoin:round; stroke-width:4; stroke-opacity:1; fill:none\" points=\"1871.94,1423.18 1871.94,1404.28 \"/>\n",
       "<polyline clip-path=\"url(#clip490)\" style=\"stroke:#000000; stroke-linecap:round; stroke-linejoin:round; stroke-width:4; stroke-opacity:1; fill:none\" points=\"2291.13,1423.18 2291.13,1404.28 \"/>\n",
       "<path clip-path=\"url(#clip490)\" d=\"M195.147 1454.1 Q191.536 1454.1 189.708 1457.66 Q187.902 1461.2 187.902 1468.33 Q187.902 1475.44 189.708 1479.01 Q191.536 1482.55 195.147 1482.55 Q198.782 1482.55 200.587 1479.01 Q202.416 1475.44 202.416 1468.33 Q202.416 1461.2 200.587 1457.66 Q198.782 1454.1 195.147 1454.1 M195.147 1450.39 Q200.958 1450.39 204.013 1455 Q207.092 1459.58 207.092 1468.33 Q207.092 1477.06 204.013 1481.67 Q200.958 1486.25 195.147 1486.25 Q189.337 1486.25 186.259 1481.67 Q183.203 1477.06 183.203 1468.33 Q183.203 1459.58 186.259 1455 Q189.337 1450.39 195.147 1450.39 Z\" fill=\"#000000\" fill-rule=\"nonzero\" fill-opacity=\"1\" /><path clip-path=\"url(#clip490)\" d=\"M589.032 1481.64 L596.671 1481.64 L596.671 1455.28 L588.361 1456.95 L588.361 1452.69 L596.625 1451.02 L601.301 1451.02 L601.301 1481.64 L608.94 1481.64 L608.94 1485.58 L589.032 1485.58 L589.032 1481.64 Z\" fill=\"#000000\" fill-rule=\"nonzero\" fill-opacity=\"1\" /><path clip-path=\"url(#clip490)\" d=\"M628.384 1454.1 Q624.773 1454.1 622.944 1457.66 Q621.139 1461.2 621.139 1468.33 Q621.139 1475.44 622.944 1479.01 Q624.773 1482.55 628.384 1482.55 Q632.018 1482.55 633.824 1479.01 Q635.653 1475.44 635.653 1468.33 Q635.653 1461.2 633.824 1457.66 Q632.018 1454.1 628.384 1454.1 M628.384 1450.39 Q634.194 1450.39 637.25 1455 Q640.328 1459.58 640.328 1468.33 Q640.328 1477.06 637.25 1481.67 Q634.194 1486.25 628.384 1486.25 Q622.574 1486.25 619.495 1481.67 Q616.44 1477.06 616.44 1468.33 Q616.44 1459.58 619.495 1455 Q622.574 1450.39 628.384 1450.39 Z\" fill=\"#000000\" fill-rule=\"nonzero\" fill-opacity=\"1\" /><path clip-path=\"url(#clip490)\" d=\"M1012.32 1481.64 L1028.63 1481.64 L1028.63 1485.58 L1006.69 1485.58 L1006.69 1481.64 Q1009.35 1478.89 1013.94 1474.26 Q1018.54 1469.61 1019.72 1468.27 Q1021.97 1465.74 1022.85 1464.01 Q1023.75 1462.25 1023.75 1460.56 Q1023.75 1457.8 1021.81 1456.07 Q1019.88 1454.33 1016.78 1454.33 Q1014.58 1454.33 1012.13 1455.09 Q1009.7 1455.86 1006.92 1457.41 L1006.92 1452.69 Q1009.75 1451.55 1012.2 1450.97 Q1014.65 1450.39 1016.69 1450.39 Q1022.06 1450.39 1025.26 1453.08 Q1028.45 1455.77 1028.45 1460.26 Q1028.45 1462.39 1027.64 1464.31 Q1026.85 1466.2 1024.75 1468.8 Q1024.17 1469.47 1021.07 1472.69 Q1017.96 1475.88 1012.32 1481.64 Z\" fill=\"#000000\" fill-rule=\"nonzero\" fill-opacity=\"1\" /><path clip-path=\"url(#clip490)\" d=\"M1048.45 1454.1 Q1044.84 1454.1 1043.01 1457.66 Q1041.2 1461.2 1041.2 1468.33 Q1041.2 1475.44 1043.01 1479.01 Q1044.84 1482.55 1048.45 1482.55 Q1052.08 1482.55 1053.89 1479.01 Q1055.72 1475.44 1055.72 1468.33 Q1055.72 1461.2 1053.89 1457.66 Q1052.08 1454.1 1048.45 1454.1 M1048.45 1450.39 Q1054.26 1450.39 1057.32 1455 Q1060.39 1459.58 1060.39 1468.33 Q1060.39 1477.06 1057.32 1481.67 Q1054.26 1486.25 1048.45 1486.25 Q1042.64 1486.25 1039.56 1481.67 Q1036.5 1477.06 1036.5 1468.33 Q1036.5 1459.58 1039.56 1455 Q1042.64 1450.39 1048.45 1450.39 Z\" fill=\"#000000\" fill-rule=\"nonzero\" fill-opacity=\"1\" /><path clip-path=\"url(#clip490)\" d=\"M1441.58 1466.95 Q1444.94 1467.66 1446.81 1469.93 Q1448.71 1472.2 1448.71 1475.53 Q1448.71 1480.65 1445.19 1483.45 Q1441.67 1486.25 1435.19 1486.25 Q1433.02 1486.25 1430.7 1485.81 Q1428.41 1485.39 1425.96 1484.54 L1425.96 1480.02 Q1427.9 1481.16 1430.22 1481.74 Q1432.53 1482.32 1435.05 1482.32 Q1439.45 1482.32 1441.74 1480.58 Q1444.06 1478.84 1444.06 1475.53 Q1444.06 1472.48 1441.91 1470.77 Q1439.78 1469.03 1435.96 1469.03 L1431.93 1469.03 L1431.93 1465.19 L1436.14 1465.19 Q1439.59 1465.19 1441.42 1463.82 Q1443.25 1462.43 1443.25 1459.84 Q1443.25 1457.18 1441.35 1455.77 Q1439.48 1454.33 1435.96 1454.33 Q1434.04 1454.33 1431.84 1454.75 Q1429.64 1455.16 1427 1456.04 L1427 1451.88 Q1429.66 1451.14 1431.98 1450.77 Q1434.31 1450.39 1436.37 1450.39 Q1441.7 1450.39 1444.8 1452.83 Q1447.9 1455.23 1447.9 1459.35 Q1447.9 1462.22 1446.26 1464.21 Q1444.61 1466.18 1441.58 1466.95 Z\" fill=\"#000000\" fill-rule=\"nonzero\" fill-opacity=\"1\" /><path clip-path=\"url(#clip490)\" d=\"M1467.58 1454.1 Q1463.97 1454.1 1462.14 1457.66 Q1460.33 1461.2 1460.33 1468.33 Q1460.33 1475.44 1462.14 1479.01 Q1463.97 1482.55 1467.58 1482.55 Q1471.21 1482.55 1473.02 1479.01 Q1474.85 1475.44 1474.85 1468.33 Q1474.85 1461.2 1473.02 1457.66 Q1471.21 1454.1 1467.58 1454.1 M1467.58 1450.39 Q1473.39 1450.39 1476.44 1455 Q1479.52 1459.58 1479.52 1468.33 Q1479.52 1477.06 1476.44 1481.67 Q1473.39 1486.25 1467.58 1486.25 Q1461.77 1486.25 1458.69 1481.67 Q1455.63 1477.06 1455.63 1468.33 Q1455.63 1459.58 1458.69 1455 Q1461.77 1450.39 1467.58 1450.39 Z\" fill=\"#000000\" fill-rule=\"nonzero\" fill-opacity=\"1\" /><path clip-path=\"url(#clip490)\" d=\"M1860.11 1455.09 L1848.3 1473.54 L1860.11 1473.54 L1860.11 1455.09 M1858.88 1451.02 L1864.76 1451.02 L1864.76 1473.54 L1869.69 1473.54 L1869.69 1477.43 L1864.76 1477.43 L1864.76 1485.58 L1860.11 1485.58 L1860.11 1477.43 L1844.51 1477.43 L1844.51 1472.92 L1858.88 1451.02 Z\" fill=\"#000000\" fill-rule=\"nonzero\" fill-opacity=\"1\" /><path clip-path=\"url(#clip490)\" d=\"M1887.42 1454.1 Q1883.81 1454.1 1881.98 1457.66 Q1880.18 1461.2 1880.18 1468.33 Q1880.18 1475.44 1881.98 1479.01 Q1883.81 1482.55 1887.42 1482.55 Q1891.06 1482.55 1892.86 1479.01 Q1894.69 1475.44 1894.69 1468.33 Q1894.69 1461.2 1892.86 1457.66 Q1891.06 1454.1 1887.42 1454.1 M1887.42 1450.39 Q1893.23 1450.39 1896.29 1455 Q1899.37 1459.58 1899.37 1468.33 Q1899.37 1477.06 1896.29 1481.67 Q1893.23 1486.25 1887.42 1486.25 Q1881.61 1486.25 1878.53 1481.67 Q1875.48 1477.06 1875.48 1468.33 Q1875.48 1459.58 1878.53 1455 Q1881.61 1450.39 1887.42 1450.39 Z\" fill=\"#000000\" fill-rule=\"nonzero\" fill-opacity=\"1\" /><path clip-path=\"url(#clip490)\" d=\"M2265.83 1451.02 L2284.19 1451.02 L2284.19 1454.96 L2270.12 1454.96 L2270.12 1463.43 Q2271.13 1463.08 2272.15 1462.92 Q2273.17 1462.73 2274.19 1462.73 Q2279.98 1462.73 2283.36 1465.9 Q2286.74 1469.08 2286.74 1474.49 Q2286.74 1480.07 2283.26 1483.17 Q2279.79 1486.25 2273.47 1486.25 Q2271.3 1486.25 2269.03 1485.88 Q2266.78 1485.51 2264.37 1484.77 L2264.37 1480.07 Q2266.46 1481.2 2268.68 1481.76 Q2270.9 1482.32 2273.38 1482.32 Q2277.38 1482.32 2279.72 1480.21 Q2282.06 1478.1 2282.06 1474.49 Q2282.06 1470.88 2279.72 1468.77 Q2277.38 1466.67 2273.38 1466.67 Q2271.5 1466.67 2269.63 1467.08 Q2267.78 1467.5 2265.83 1468.38 L2265.83 1451.02 Z\" fill=\"#000000\" fill-rule=\"nonzero\" fill-opacity=\"1\" /><path clip-path=\"url(#clip490)\" d=\"M2305.95 1454.1 Q2302.34 1454.1 2300.51 1457.66 Q2298.7 1461.2 2298.7 1468.33 Q2298.7 1475.44 2300.51 1479.01 Q2302.34 1482.55 2305.95 1482.55 Q2309.58 1482.55 2311.39 1479.01 Q2313.22 1475.44 2313.22 1468.33 Q2313.22 1461.2 2311.39 1457.66 Q2309.58 1454.1 2305.95 1454.1 M2305.95 1450.39 Q2311.76 1450.39 2314.81 1455 Q2317.89 1459.58 2317.89 1468.33 Q2317.89 1477.06 2314.81 1481.67 Q2311.76 1486.25 2305.95 1486.25 Q2300.14 1486.25 2297.06 1481.67 Q2294 1477.06 2294 1468.33 Q2294 1459.58 2297.06 1455 Q2300.14 1450.39 2305.95 1450.39 Z\" fill=\"#000000\" fill-rule=\"nonzero\" fill-opacity=\"1\" /><path clip-path=\"url(#clip490)\" d=\"M1170.27 1520.52 L1200.32 1520.52 L1200.32 1525.93 L1176.7 1525.93 L1176.7 1540 L1199.33 1540 L1199.33 1545.41 L1176.7 1545.41 L1176.7 1562.63 L1200.89 1562.63 L1200.89 1568.04 L1170.27 1568.04 L1170.27 1520.52 Z\" fill=\"#000000\" fill-rule=\"nonzero\" fill-opacity=\"1\" /><path clip-path=\"url(#clip490)\" d=\"M1216.87 1562.7 L1216.87 1581.6 L1210.98 1581.6 L1210.98 1532.4 L1216.87 1532.4 L1216.87 1537.81 Q1218.71 1534.62 1221.51 1533.1 Q1224.35 1531.54 1228.26 1531.54 Q1234.75 1531.54 1238.8 1536.69 Q1242.87 1541.85 1242.87 1550.25 Q1242.87 1558.65 1238.8 1563.81 Q1234.75 1568.97 1228.26 1568.97 Q1224.35 1568.97 1221.51 1567.44 Q1218.71 1565.88 1216.87 1562.7 M1236.79 1550.25 Q1236.79 1543.79 1234.12 1540.13 Q1231.48 1536.44 1226.83 1536.44 Q1222.18 1536.44 1219.51 1540.13 Q1216.87 1543.79 1216.87 1550.25 Q1216.87 1556.71 1219.51 1560.4 Q1222.18 1564.07 1226.83 1564.07 Q1231.48 1564.07 1234.12 1560.4 Q1236.79 1556.71 1236.79 1550.25 Z\" fill=\"#000000\" fill-rule=\"nonzero\" fill-opacity=\"1\" /><path clip-path=\"url(#clip490)\" d=\"M1266.39 1536.5 Q1261.68 1536.5 1258.94 1540.19 Q1256.21 1543.85 1256.21 1550.25 Q1256.21 1556.65 1258.91 1560.34 Q1261.65 1564 1266.39 1564 Q1271.07 1564 1273.81 1560.31 Q1276.55 1556.62 1276.55 1550.25 Q1276.55 1543.92 1273.81 1540.23 Q1271.07 1536.5 1266.39 1536.5 M1266.39 1531.54 Q1274.03 1531.54 1278.39 1536.5 Q1282.75 1541.47 1282.75 1550.25 Q1282.75 1559 1278.39 1564 Q1274.03 1568.97 1266.39 1568.97 Q1258.72 1568.97 1254.36 1564 Q1250.03 1559 1250.03 1550.25 Q1250.03 1541.47 1254.36 1536.5 Q1258.72 1531.54 1266.39 1531.54 Z\" fill=\"#000000\" fill-rule=\"nonzero\" fill-opacity=\"1\" /><path clip-path=\"url(#clip490)\" d=\"M1318.11 1533.76 L1318.11 1539.24 Q1315.63 1537.87 1313.12 1537.2 Q1310.63 1536.5 1308.09 1536.5 Q1302.39 1536.5 1299.24 1540.13 Q1296.09 1543.73 1296.09 1550.25 Q1296.09 1556.78 1299.24 1560.4 Q1302.39 1564 1308.09 1564 Q1310.63 1564 1313.12 1563.33 Q1315.63 1562.63 1318.11 1561.26 L1318.11 1566.68 Q1315.66 1567.82 1313.02 1568.39 Q1310.41 1568.97 1307.45 1568.97 Q1299.4 1568.97 1294.66 1563.91 Q1289.91 1558.85 1289.91 1550.25 Q1289.91 1541.53 1294.69 1536.53 Q1299.49 1531.54 1307.83 1531.54 Q1310.54 1531.54 1313.12 1532.11 Q1315.69 1532.65 1318.11 1533.76 Z\" fill=\"#000000\" fill-rule=\"nonzero\" fill-opacity=\"1\" /><path clip-path=\"url(#clip490)\" d=\"M1357.93 1546.53 L1357.93 1568.04 L1352.07 1568.04 L1352.07 1546.72 Q1352.07 1541.66 1350.1 1539.14 Q1348.13 1536.63 1344.18 1536.63 Q1339.44 1536.63 1336.7 1539.65 Q1333.96 1542.68 1333.96 1547.9 L1333.96 1568.04 L1328.08 1568.04 L1328.08 1518.52 L1333.96 1518.52 L1333.96 1537.93 Q1336.06 1534.72 1338.9 1533.13 Q1341.76 1531.54 1345.49 1531.54 Q1351.63 1531.54 1354.78 1535.36 Q1357.93 1539.14 1357.93 1546.53 Z\" fill=\"#000000\" fill-rule=\"nonzero\" fill-opacity=\"1\" /><polyline clip-path=\"url(#clip490)\" style=\"stroke:#000000; stroke-linecap:round; stroke-linejoin:round; stroke-width:4; stroke-opacity:1; fill:none\" points=\"175.445,1423.18 175.445,123.472 \"/>\n",
       "<polyline clip-path=\"url(#clip490)\" style=\"stroke:#000000; stroke-linecap:round; stroke-linejoin:round; stroke-width:4; stroke-opacity:1; fill:none\" points=\"175.445,1399.28 194.343,1399.28 \"/>\n",
       "<polyline clip-path=\"url(#clip490)\" style=\"stroke:#000000; stroke-linecap:round; stroke-linejoin:round; stroke-width:4; stroke-opacity:1; fill:none\" points=\"175.445,1067.62 194.343,1067.62 \"/>\n",
       "<polyline clip-path=\"url(#clip490)\" style=\"stroke:#000000; stroke-linecap:round; stroke-linejoin:round; stroke-width:4; stroke-opacity:1; fill:none\" points=\"175.445,735.952 194.343,735.952 \"/>\n",
       "<polyline clip-path=\"url(#clip490)\" style=\"stroke:#000000; stroke-linecap:round; stroke-linejoin:round; stroke-width:4; stroke-opacity:1; fill:none\" points=\"175.445,404.287 194.343,404.287 \"/>\n",
       "<path clip-path=\"url(#clip490)\" d=\"M127.501 1385.08 Q123.89 1385.08 122.061 1388.65 Q120.255 1392.19 120.255 1399.32 Q120.255 1406.42 122.061 1409.99 Q123.89 1413.53 127.501 1413.53 Q131.135 1413.53 132.941 1409.99 Q134.769 1406.42 134.769 1399.32 Q134.769 1392.19 132.941 1388.65 Q131.135 1385.08 127.501 1385.08 M127.501 1381.38 Q133.311 1381.38 136.367 1385.98 Q139.445 1390.57 139.445 1399.32 Q139.445 1408.04 136.367 1412.65 Q133.311 1417.23 127.501 1417.23 Q121.691 1417.23 118.612 1412.65 Q115.556 1408.04 115.556 1399.32 Q115.556 1390.57 118.612 1385.98 Q121.691 1381.38 127.501 1381.38 Z\" fill=\"#000000\" fill-rule=\"nonzero\" fill-opacity=\"1\" /><path clip-path=\"url(#clip490)\" d=\"M123.126 1080.96 L139.445 1080.96 L139.445 1084.9 L117.501 1084.9 L117.501 1080.96 Q120.163 1078.21 124.746 1073.58 Q129.353 1068.92 130.533 1067.58 Q132.779 1065.06 133.658 1063.32 Q134.561 1061.56 134.561 1059.87 Q134.561 1057.12 132.617 1055.38 Q130.695 1053.65 127.593 1053.65 Q125.394 1053.65 122.941 1054.41 Q120.51 1055.17 117.732 1056.73 L117.732 1052 Q120.556 1050.87 123.01 1050.29 Q125.464 1049.71 127.501 1049.71 Q132.871 1049.71 136.066 1052.4 Q139.26 1055.08 139.26 1059.57 Q139.26 1061.7 138.45 1063.62 Q137.663 1065.52 135.556 1068.11 Q134.978 1068.79 131.876 1072 Q128.774 1075.2 123.126 1080.96 Z\" fill=\"#000000\" fill-rule=\"nonzero\" fill-opacity=\"1\" /><path clip-path=\"url(#clip490)\" d=\"M129.862 722.746 L118.056 741.195 L129.862 741.195 L129.862 722.746 M128.635 718.672 L134.515 718.672 L134.515 741.195 L139.445 741.195 L139.445 745.084 L134.515 745.084 L134.515 753.232 L129.862 753.232 L129.862 745.084 L114.26 745.084 L114.26 740.57 L128.635 718.672 Z\" fill=\"#000000\" fill-rule=\"nonzero\" fill-opacity=\"1\" /><path clip-path=\"url(#clip490)\" d=\"M127.917 402.424 Q124.769 402.424 122.918 404.576 Q121.089 406.729 121.089 410.479 Q121.089 414.206 122.918 416.382 Q124.769 418.535 127.917 418.535 Q131.066 418.535 132.894 416.382 Q134.746 414.206 134.746 410.479 Q134.746 406.729 132.894 404.576 Q131.066 402.424 127.917 402.424 M137.2 387.771 L137.2 392.03 Q135.441 391.197 133.635 390.757 Q131.853 390.317 130.093 390.317 Q125.464 390.317 123.01 393.442 Q120.58 396.567 120.232 402.887 Q121.598 400.873 123.658 399.808 Q125.718 398.72 128.195 398.72 Q133.404 398.72 136.413 401.891 Q139.445 405.039 139.445 410.479 Q139.445 415.803 136.297 419.021 Q133.149 422.238 127.917 422.238 Q121.922 422.238 118.751 417.655 Q115.58 413.049 115.58 404.322 Q115.58 396.127 119.468 391.266 Q123.357 386.382 129.908 386.382 Q131.667 386.382 133.45 386.729 Q135.255 387.076 137.2 387.771 Z\" fill=\"#000000\" fill-rule=\"nonzero\" fill-opacity=\"1\" /><path clip-path=\"url(#clip490)\" d=\"M16.4842 840.023 L16.4842 833.593 L58.5933 833.593 L58.5933 810.454 L64.0042 810.454 L64.0042 840.023 L16.4842 840.023 Z\" fill=\"#000000\" fill-rule=\"nonzero\" fill-opacity=\"1\" /><path clip-path=\"url(#clip490)\" d=\"M32.4621 791.293 Q32.4621 796.004 36.1542 798.741 Q39.8145 801.478 46.212 801.478 Q52.6095 801.478 56.3017 798.773 Q59.9619 796.036 59.9619 791.293 Q59.9619 786.614 56.2698 783.877 Q52.5777 781.14 46.212 781.14 Q39.8781 781.14 36.186 783.877 Q32.4621 786.614 32.4621 791.293 M27.4968 791.293 Q27.4968 783.654 32.4621 779.294 Q37.4273 774.933 46.212 774.933 Q54.9649 774.933 59.9619 779.294 Q64.9272 783.654 64.9272 791.293 Q64.9272 798.964 59.9619 803.324 Q54.9649 807.653 46.212 807.653 Q37.4273 807.653 32.4621 803.324 Q27.4968 798.964 27.4968 791.293 Z\" fill=\"#000000\" fill-rule=\"nonzero\" fill-opacity=\"1\" /><path clip-path=\"url(#clip490)\" d=\"M29.4065 742.5 L34.9447 742.5 Q33.6716 744.983 33.035 747.656 Q32.3984 750.33 32.3984 753.194 Q32.3984 757.555 33.7352 759.751 Q35.072 761.915 37.7456 761.915 Q39.7826 761.915 40.9603 760.356 Q42.1061 758.796 43.1565 754.086 L43.6021 752.08 Q44.9389 745.842 47.3897 743.232 Q49.8086 740.59 54.1691 740.59 Q59.1344 740.59 62.0308 744.537 Q64.9272 748.452 64.9272 755.327 Q64.9272 758.192 64.3543 761.311 Q63.8132 764.398 62.6992 767.836 L56.6518 767.836 Q58.3387 764.589 59.198 761.438 Q60.0256 758.287 60.0256 755.2 Q60.0256 751.062 58.6251 748.834 Q57.1929 746.606 54.6147 746.606 Q52.2276 746.606 50.9545 748.229 Q49.6813 749.821 48.5037 755.263 L48.0262 757.3 Q46.8804 762.743 44.5251 765.162 Q42.138 767.581 38.0002 767.581 Q32.9713 767.581 30.2341 764.016 Q27.4968 760.451 27.4968 753.895 Q27.4968 750.648 27.9743 747.784 Q28.4517 744.919 29.4065 742.5 Z\" fill=\"#000000\" fill-rule=\"nonzero\" fill-opacity=\"1\" /><path clip-path=\"url(#clip490)\" d=\"M29.4065 708.539 L34.9447 708.539 Q33.6716 711.022 33.035 713.695 Q32.3984 716.369 32.3984 719.233 Q32.3984 723.594 33.7352 725.79 Q35.072 727.954 37.7456 727.954 Q39.7826 727.954 40.9603 726.395 Q42.1061 724.835 43.1565 720.125 L43.6021 718.119 Q44.9389 711.881 47.3897 709.271 Q49.8086 706.629 54.1691 706.629 Q59.1344 706.629 62.0308 710.576 Q64.9272 714.491 64.9272 721.366 Q64.9272 724.23 64.3543 727.35 Q63.8132 730.437 62.6992 733.875 L56.6518 733.875 Q58.3387 730.628 59.198 727.477 Q60.0256 724.326 60.0256 721.239 Q60.0256 717.101 58.6251 714.873 Q57.1929 712.645 54.6147 712.645 Q52.2276 712.645 50.9545 714.268 Q49.6813 715.86 48.5037 721.302 L48.0262 723.339 Q46.8804 728.782 44.5251 731.201 Q42.138 733.62 38.0002 733.62 Q32.9713 733.62 30.2341 730.055 Q27.4968 726.49 27.4968 719.934 Q27.4968 716.687 27.9743 713.823 Q28.4517 710.958 29.4065 708.539 Z\" fill=\"#000000\" fill-rule=\"nonzero\" fill-opacity=\"1\" /><path clip-path=\"url(#clip490)\" d=\"M998.159 12.096 L1049.32 12.096 L1049.32 18.9825 L1027.85 18.9825 L1027.85 72.576 L1019.63 72.576 L1019.63 18.9825 L998.159 18.9825 L998.159 12.096 Z\" fill=\"#000000\" fill-rule=\"nonzero\" fill-opacity=\"1\" /><path clip-path=\"url(#clip490)\" d=\"M1070.99 34.1734 Q1069.74 33.4443 1068.24 33.1202 Q1066.78 32.7556 1065 32.7556 Q1058.68 32.7556 1055.28 36.8875 Q1051.91 40.9789 1051.91 48.6757 L1051.91 72.576 L1044.42 72.576 L1044.42 27.2059 L1051.91 27.2059 L1051.91 34.2544 Q1054.26 30.1225 1058.03 28.1376 Q1061.8 26.1121 1067.19 26.1121 Q1067.96 26.1121 1068.89 26.2337 Q1069.82 26.3147 1070.95 26.5172 L1070.99 34.1734 Z\" fill=\"#000000\" fill-rule=\"nonzero\" fill-opacity=\"1\" /><path clip-path=\"url(#clip490)\" d=\"M1099.43 49.7694 Q1090.4 49.7694 1086.91 51.8354 Q1083.43 53.9013 1083.43 58.8839 Q1083.43 62.8538 1086.02 65.2034 Q1088.66 67.5124 1093.15 67.5124 Q1099.35 67.5124 1103.08 63.1374 Q1106.84 58.7219 1106.84 51.4303 L1106.84 49.7694 L1099.43 49.7694 M1114.3 46.6907 L1114.3 72.576 L1106.84 72.576 L1106.84 65.6895 Q1104.29 69.8214 1100.48 71.8063 Q1096.68 73.7508 1091.17 73.7508 Q1084.2 73.7508 1080.07 69.8619 Q1075.98 65.9325 1075.98 59.3701 Q1075.98 51.7138 1081.08 47.825 Q1086.23 43.9361 1096.39 43.9361 L1106.84 43.9361 L1106.84 43.2069 Q1106.84 38.0623 1103.44 35.2672 Q1100.08 32.4315 1093.96 32.4315 Q1090.07 32.4315 1086.39 33.3632 Q1082.7 34.295 1079.3 36.1584 L1079.3 29.2718 Q1083.39 27.692 1087.24 26.9223 Q1091.09 26.1121 1094.73 26.1121 Q1104.58 26.1121 1109.44 31.2163 Q1114.3 36.3204 1114.3 46.6907 Z\" fill=\"#000000\" fill-rule=\"nonzero\" fill-opacity=\"1\" /><path clip-path=\"url(#clip490)\" d=\"M1129.65 27.2059 L1137.1 27.2059 L1137.1 72.576 L1129.65 72.576 L1129.65 27.2059 M1129.65 9.54393 L1137.1 9.54393 L1137.1 18.9825 L1129.65 18.9825 L1129.65 9.54393 Z\" fill=\"#000000\" fill-rule=\"nonzero\" fill-opacity=\"1\" /><path clip-path=\"url(#clip490)\" d=\"M1190.41 45.1919 L1190.41 72.576 L1182.96 72.576 L1182.96 45.4349 Q1182.96 38.994 1180.45 35.7938 Q1177.94 32.5936 1172.91 32.5936 Q1166.88 32.5936 1163.4 36.4419 Q1159.91 40.2903 1159.91 46.9338 L1159.91 72.576 L1152.42 72.576 L1152.42 27.2059 L1159.91 27.2059 L1159.91 34.2544 Q1162.58 30.163 1166.19 28.1376 Q1169.84 26.1121 1174.58 26.1121 Q1182.39 26.1121 1186.4 30.9732 Q1190.41 35.7938 1190.41 45.1919 Z\" fill=\"#000000\" fill-rule=\"nonzero\" fill-opacity=\"1\" /><path clip-path=\"url(#clip490)\" d=\"M1205.28 27.2059 L1212.74 27.2059 L1212.74 72.576 L1205.28 72.576 L1205.28 27.2059 M1205.28 9.54393 L1212.74 9.54393 L1212.74 18.9825 L1205.28 18.9825 L1205.28 9.54393 Z\" fill=\"#000000\" fill-rule=\"nonzero\" fill-opacity=\"1\" /><path clip-path=\"url(#clip490)\" d=\"M1266.04 45.1919 L1266.04 72.576 L1258.59 72.576 L1258.59 45.4349 Q1258.59 38.994 1256.08 35.7938 Q1253.57 32.5936 1248.55 32.5936 Q1242.51 32.5936 1239.03 36.4419 Q1235.54 40.2903 1235.54 46.9338 L1235.54 72.576 L1228.05 72.576 L1228.05 27.2059 L1235.54 27.2059 L1235.54 34.2544 Q1238.22 30.163 1241.82 28.1376 Q1245.47 26.1121 1250.21 26.1121 Q1258.02 26.1121 1262.03 30.9732 Q1266.04 35.7938 1266.04 45.1919 Z\" fill=\"#000000\" fill-rule=\"nonzero\" fill-opacity=\"1\" /><path clip-path=\"url(#clip490)\" d=\"M1310.77 49.3643 Q1310.77 41.2625 1307.4 36.8065 Q1304.08 32.3505 1298.05 32.3505 Q1292.05 32.3505 1288.69 36.8065 Q1285.37 41.2625 1285.37 49.3643 Q1285.37 57.4256 1288.69 61.8816 Q1292.05 66.3376 1298.05 66.3376 Q1304.08 66.3376 1307.4 61.8816 Q1310.77 57.4256 1310.77 49.3643 M1318.22 66.9452 Q1318.22 78.5308 1313.08 84.1616 Q1307.93 89.8329 1297.32 89.8329 Q1293.39 89.8329 1289.9 89.2252 Q1286.42 88.6581 1283.14 87.4428 L1283.14 80.1917 Q1286.42 81.9741 1289.62 82.8248 Q1292.82 83.6755 1296.14 83.6755 Q1303.48 83.6755 1307.12 79.8271 Q1310.77 76.0193 1310.77 68.282 L1310.77 64.5957 Q1308.46 68.6061 1304.85 70.5911 Q1301.25 72.576 1296.22 72.576 Q1287.88 72.576 1282.78 66.2161 Q1277.67 59.8562 1277.67 49.3643 Q1277.67 38.832 1282.78 32.472 Q1287.88 26.1121 1296.22 26.1121 Q1301.25 26.1121 1304.85 28.0971 Q1308.46 30.082 1310.77 34.0924 L1310.77 27.2059 L1318.22 27.2059 L1318.22 66.9452 Z\" fill=\"#000000\" fill-rule=\"nonzero\" fill-opacity=\"1\" /><path clip-path=\"url(#clip490)\" d=\"M1360.27 12.096 L1368.45 12.096 L1368.45 65.6895 L1397.9 65.6895 L1397.9 72.576 L1360.27 72.576 L1360.27 12.096 Z\" fill=\"#000000\" fill-rule=\"nonzero\" fill-opacity=\"1\" /><path clip-path=\"url(#clip490)\" d=\"M1422.29 32.4315 Q1416.29 32.4315 1412.81 37.1306 Q1409.33 41.7891 1409.33 49.9314 Q1409.33 58.0738 1412.77 62.7728 Q1416.25 67.4314 1422.29 67.4314 Q1428.24 67.4314 1431.73 62.7323 Q1435.21 58.0333 1435.21 49.9314 Q1435.21 41.8701 1431.73 37.1711 Q1428.24 32.4315 1422.29 32.4315 M1422.29 26.1121 Q1432.01 26.1121 1437.56 32.4315 Q1443.11 38.7509 1443.11 49.9314 Q1443.11 61.0714 1437.56 67.4314 Q1432.01 73.7508 1422.29 73.7508 Q1412.53 73.7508 1406.98 67.4314 Q1401.47 61.0714 1401.47 49.9314 Q1401.47 38.7509 1406.98 32.4315 Q1412.53 26.1121 1422.29 26.1121 Z\" fill=\"#000000\" fill-rule=\"nonzero\" fill-opacity=\"1\" /><path clip-path=\"url(#clip490)\" d=\"M1484.39 28.5427 L1484.39 35.5912 Q1481.23 33.9709 1477.83 33.1607 Q1474.42 32.3505 1470.78 32.3505 Q1465.23 32.3505 1462.43 34.0519 Q1459.68 35.7533 1459.68 39.156 Q1459.68 41.7486 1461.66 43.2475 Q1463.65 44.7058 1469.64 46.0426 L1472.2 46.6097 Q1480.14 48.3111 1483.46 51.4303 Q1486.82 54.509 1486.82 60.0587 Q1486.82 66.3781 1481.8 70.0644 Q1476.81 73.7508 1468.06 73.7508 Q1464.42 73.7508 1460.45 73.0216 Q1456.52 72.3329 1452.14 70.9151 L1452.14 63.2184 Q1456.28 65.3654 1460.29 66.4591 Q1464.3 67.5124 1468.23 67.5124 Q1473.49 67.5124 1476.33 65.73 Q1479.16 63.9071 1479.16 60.6258 Q1479.16 57.5877 1477.1 55.9673 Q1475.07 54.3469 1468.14 52.8481 L1465.55 52.2405 Q1458.62 50.7821 1455.55 47.7845 Q1452.47 44.7463 1452.47 39.4801 Q1452.47 33.0797 1457 29.5959 Q1461.54 26.1121 1469.89 26.1121 Q1474.02 26.1121 1477.66 26.7198 Q1481.31 27.3274 1484.39 28.5427 Z\" fill=\"#000000\" fill-rule=\"nonzero\" fill-opacity=\"1\" /><path clip-path=\"url(#clip490)\" d=\"M1527.61 28.5427 L1527.61 35.5912 Q1524.45 33.9709 1521.05 33.1607 Q1517.65 32.3505 1514 32.3505 Q1508.45 32.3505 1505.66 34.0519 Q1502.9 35.7533 1502.9 39.156 Q1502.9 41.7486 1504.89 43.2475 Q1506.87 44.7058 1512.87 46.0426 L1515.42 46.6097 Q1523.36 48.3111 1526.68 51.4303 Q1530.04 54.509 1530.04 60.0587 Q1530.04 66.3781 1525.02 70.0644 Q1520.04 73.7508 1511.29 73.7508 Q1507.64 73.7508 1503.67 73.0216 Q1499.74 72.3329 1495.37 70.9151 L1495.37 63.2184 Q1499.5 65.3654 1503.51 66.4591 Q1507.52 67.5124 1511.45 67.5124 Q1516.71 67.5124 1519.55 65.73 Q1522.39 63.9071 1522.39 60.6258 Q1522.39 57.5877 1520.32 55.9673 Q1518.29 54.3469 1511.37 52.8481 L1508.78 52.2405 Q1501.85 50.7821 1498.77 47.7845 Q1495.69 44.7463 1495.69 39.4801 Q1495.69 33.0797 1500.23 29.5959 Q1504.76 26.1121 1513.11 26.1121 Q1517.24 26.1121 1520.89 26.7198 Q1524.53 27.3274 1527.61 28.5427 Z\" fill=\"#000000\" fill-rule=\"nonzero\" fill-opacity=\"1\" /><polyline clip-path=\"url(#clip492)\" style=\"stroke:#009af9; stroke-linecap:round; stroke-linejoin:round; stroke-width:8; stroke-opacity:1; fill:none\" points=\"237.067,160.256 278.987,774.002 320.907,846.496 362.826,883.896 404.746,906.883 446.666,922.969 488.586,935.627 530.505,948.797 572.425,1293.05 614.345,1329.84 656.264,1342.35 698.184,1350.6 740.104,1356.66 782.024,1361.1 823.943,1364.48 865.863,1367.1 907.783,1369.73 949.703,1371.89 991.622,1373.73 1033.54,1375.33 1075.46,1376.59 1117.38,1377.55 1159.3,1378.49 1201.22,1379.36 1243.14,1380.08 1285.06,1380.74 1326.98,1381.3 1368.9,1381.8 1410.82,1382.2 1452.74,1382.6 1494.66,1382.93 1536.58,1383.22 1578.5,1383.56 1620.42,1383.84 1662.34,1384.13 1704.26,1384.38 1746.18,1384.63 1788.1,1384.85 1830.02,1385 1871.94,1385.17 1913.86,1385.34 1955.78,1385.5 1997.7,1385.64 2039.62,1385.78 2081.54,1385.91 2123.45,1386.05 2165.37,1386.16 2207.29,1386.25 2249.21,1386.33 2291.13,1386.4 \"/>\n",
       "</svg>\n"
      ],
      "text/html": [
       "<?xml version=\"1.0\" encoding=\"utf-8\"?>\n",
       "<svg xmlns=\"http://www.w3.org/2000/svg\" xmlns:xlink=\"http://www.w3.org/1999/xlink\" width=\"600\" height=\"400\" viewBox=\"0 0 2400 1600\">\n",
       "<defs>\n",
       "  <clipPath id=\"clip540\">\n",
       "    <rect x=\"0\" y=\"0\" width=\"2400\" height=\"1600\"/>\n",
       "  </clipPath>\n",
       "</defs>\n",
       "<path clip-path=\"url(#clip540)\" d=\"M0 1600 L2400 1600 L2400 8.88178e-14 L0 8.88178e-14  Z\" fill=\"#ffffff\" fill-rule=\"evenodd\" fill-opacity=\"1\"/>\n",
       "<defs>\n",
       "  <clipPath id=\"clip541\">\n",
       "    <rect x=\"480\" y=\"0\" width=\"1681\" height=\"1600\"/>\n",
       "  </clipPath>\n",
       "</defs>\n",
       "<path clip-path=\"url(#clip540)\" d=\"M175.445 1423.18 L2352.76 1423.18 L2352.76 123.472 L175.445 123.472  Z\" fill=\"#ffffff\" fill-rule=\"evenodd\" fill-opacity=\"1\"/>\n",
       "<defs>\n",
       "  <clipPath id=\"clip542\">\n",
       "    <rect x=\"175\" y=\"123\" width=\"2178\" height=\"1301\"/>\n",
       "  </clipPath>\n",
       "</defs>\n",
       "<polyline clip-path=\"url(#clip542)\" style=\"stroke:#000000; stroke-linecap:round; stroke-linejoin:round; stroke-width:2; stroke-opacity:0.1; fill:none\" points=\"195.147,1423.18 195.147,123.472 \"/>\n",
       "<polyline clip-path=\"url(#clip542)\" style=\"stroke:#000000; stroke-linecap:round; stroke-linejoin:round; stroke-width:2; stroke-opacity:0.1; fill:none\" points=\"614.345,1423.18 614.345,123.472 \"/>\n",
       "<polyline clip-path=\"url(#clip542)\" style=\"stroke:#000000; stroke-linecap:round; stroke-linejoin:round; stroke-width:2; stroke-opacity:0.1; fill:none\" points=\"1033.54,1423.18 1033.54,123.472 \"/>\n",
       "<polyline clip-path=\"url(#clip542)\" style=\"stroke:#000000; stroke-linecap:round; stroke-linejoin:round; stroke-width:2; stroke-opacity:0.1; fill:none\" points=\"1452.74,1423.18 1452.74,123.472 \"/>\n",
       "<polyline clip-path=\"url(#clip542)\" style=\"stroke:#000000; stroke-linecap:round; stroke-linejoin:round; stroke-width:2; stroke-opacity:0.1; fill:none\" points=\"1871.94,1423.18 1871.94,123.472 \"/>\n",
       "<polyline clip-path=\"url(#clip542)\" style=\"stroke:#000000; stroke-linecap:round; stroke-linejoin:round; stroke-width:2; stroke-opacity:0.1; fill:none\" points=\"2291.13,1423.18 2291.13,123.472 \"/>\n",
       "<polyline clip-path=\"url(#clip542)\" style=\"stroke:#000000; stroke-linecap:round; stroke-linejoin:round; stroke-width:2; stroke-opacity:0.1; fill:none\" points=\"175.445,1399.28 2352.76,1399.28 \"/>\n",
       "<polyline clip-path=\"url(#clip542)\" style=\"stroke:#000000; stroke-linecap:round; stroke-linejoin:round; stroke-width:2; stroke-opacity:0.1; fill:none\" points=\"175.445,1067.62 2352.76,1067.62 \"/>\n",
       "<polyline clip-path=\"url(#clip542)\" style=\"stroke:#000000; stroke-linecap:round; stroke-linejoin:round; stroke-width:2; stroke-opacity:0.1; fill:none\" points=\"175.445,735.952 2352.76,735.952 \"/>\n",
       "<polyline clip-path=\"url(#clip542)\" style=\"stroke:#000000; stroke-linecap:round; stroke-linejoin:round; stroke-width:2; stroke-opacity:0.1; fill:none\" points=\"175.445,404.287 2352.76,404.287 \"/>\n",
       "<polyline clip-path=\"url(#clip540)\" style=\"stroke:#000000; stroke-linecap:round; stroke-linejoin:round; stroke-width:4; stroke-opacity:1; fill:none\" points=\"175.445,1423.18 2352.76,1423.18 \"/>\n",
       "<polyline clip-path=\"url(#clip540)\" style=\"stroke:#000000; stroke-linecap:round; stroke-linejoin:round; stroke-width:4; stroke-opacity:1; fill:none\" points=\"195.147,1423.18 195.147,1404.28 \"/>\n",
       "<polyline clip-path=\"url(#clip540)\" style=\"stroke:#000000; stroke-linecap:round; stroke-linejoin:round; stroke-width:4; stroke-opacity:1; fill:none\" points=\"614.345,1423.18 614.345,1404.28 \"/>\n",
       "<polyline clip-path=\"url(#clip540)\" style=\"stroke:#000000; stroke-linecap:round; stroke-linejoin:round; stroke-width:4; stroke-opacity:1; fill:none\" points=\"1033.54,1423.18 1033.54,1404.28 \"/>\n",
       "<polyline clip-path=\"url(#clip540)\" style=\"stroke:#000000; stroke-linecap:round; stroke-linejoin:round; stroke-width:4; stroke-opacity:1; fill:none\" points=\"1452.74,1423.18 1452.74,1404.28 \"/>\n",
       "<polyline clip-path=\"url(#clip540)\" style=\"stroke:#000000; stroke-linecap:round; stroke-linejoin:round; stroke-width:4; stroke-opacity:1; fill:none\" points=\"1871.94,1423.18 1871.94,1404.28 \"/>\n",
       "<polyline clip-path=\"url(#clip540)\" style=\"stroke:#000000; stroke-linecap:round; stroke-linejoin:round; stroke-width:4; stroke-opacity:1; fill:none\" points=\"2291.13,1423.18 2291.13,1404.28 \"/>\n",
       "<path clip-path=\"url(#clip540)\" d=\"M195.147 1454.1 Q191.536 1454.1 189.708 1457.66 Q187.902 1461.2 187.902 1468.33 Q187.902 1475.44 189.708 1479.01 Q191.536 1482.55 195.147 1482.55 Q198.782 1482.55 200.587 1479.01 Q202.416 1475.44 202.416 1468.33 Q202.416 1461.2 200.587 1457.66 Q198.782 1454.1 195.147 1454.1 M195.147 1450.39 Q200.958 1450.39 204.013 1455 Q207.092 1459.58 207.092 1468.33 Q207.092 1477.06 204.013 1481.67 Q200.958 1486.25 195.147 1486.25 Q189.337 1486.25 186.259 1481.67 Q183.203 1477.06 183.203 1468.33 Q183.203 1459.58 186.259 1455 Q189.337 1450.39 195.147 1450.39 Z\" fill=\"#000000\" fill-rule=\"nonzero\" fill-opacity=\"1\" /><path clip-path=\"url(#clip540)\" d=\"M589.032 1481.64 L596.671 1481.64 L596.671 1455.28 L588.361 1456.95 L588.361 1452.69 L596.625 1451.02 L601.301 1451.02 L601.301 1481.64 L608.94 1481.64 L608.94 1485.58 L589.032 1485.58 L589.032 1481.64 Z\" fill=\"#000000\" fill-rule=\"nonzero\" fill-opacity=\"1\" /><path clip-path=\"url(#clip540)\" d=\"M628.384 1454.1 Q624.773 1454.1 622.944 1457.66 Q621.139 1461.2 621.139 1468.33 Q621.139 1475.44 622.944 1479.01 Q624.773 1482.55 628.384 1482.55 Q632.018 1482.55 633.824 1479.01 Q635.653 1475.44 635.653 1468.33 Q635.653 1461.2 633.824 1457.66 Q632.018 1454.1 628.384 1454.1 M628.384 1450.39 Q634.194 1450.39 637.25 1455 Q640.328 1459.58 640.328 1468.33 Q640.328 1477.06 637.25 1481.67 Q634.194 1486.25 628.384 1486.25 Q622.574 1486.25 619.495 1481.67 Q616.44 1477.06 616.44 1468.33 Q616.44 1459.58 619.495 1455 Q622.574 1450.39 628.384 1450.39 Z\" fill=\"#000000\" fill-rule=\"nonzero\" fill-opacity=\"1\" /><path clip-path=\"url(#clip540)\" d=\"M1012.32 1481.64 L1028.63 1481.64 L1028.63 1485.58 L1006.69 1485.58 L1006.69 1481.64 Q1009.35 1478.89 1013.94 1474.26 Q1018.54 1469.61 1019.72 1468.27 Q1021.97 1465.74 1022.85 1464.01 Q1023.75 1462.25 1023.75 1460.56 Q1023.75 1457.8 1021.81 1456.07 Q1019.88 1454.33 1016.78 1454.33 Q1014.58 1454.33 1012.13 1455.09 Q1009.7 1455.86 1006.92 1457.41 L1006.92 1452.69 Q1009.75 1451.55 1012.2 1450.97 Q1014.65 1450.39 1016.69 1450.39 Q1022.06 1450.39 1025.26 1453.08 Q1028.45 1455.77 1028.45 1460.26 Q1028.45 1462.39 1027.64 1464.31 Q1026.85 1466.2 1024.75 1468.8 Q1024.17 1469.47 1021.07 1472.69 Q1017.96 1475.88 1012.32 1481.64 Z\" fill=\"#000000\" fill-rule=\"nonzero\" fill-opacity=\"1\" /><path clip-path=\"url(#clip540)\" d=\"M1048.45 1454.1 Q1044.84 1454.1 1043.01 1457.66 Q1041.2 1461.2 1041.2 1468.33 Q1041.2 1475.44 1043.01 1479.01 Q1044.84 1482.55 1048.45 1482.55 Q1052.08 1482.55 1053.89 1479.01 Q1055.72 1475.44 1055.72 1468.33 Q1055.72 1461.2 1053.89 1457.66 Q1052.08 1454.1 1048.45 1454.1 M1048.45 1450.39 Q1054.26 1450.39 1057.32 1455 Q1060.39 1459.58 1060.39 1468.33 Q1060.39 1477.06 1057.32 1481.67 Q1054.26 1486.25 1048.45 1486.25 Q1042.64 1486.25 1039.56 1481.67 Q1036.5 1477.06 1036.5 1468.33 Q1036.5 1459.58 1039.56 1455 Q1042.64 1450.39 1048.45 1450.39 Z\" fill=\"#000000\" fill-rule=\"nonzero\" fill-opacity=\"1\" /><path clip-path=\"url(#clip540)\" d=\"M1441.58 1466.95 Q1444.94 1467.66 1446.81 1469.93 Q1448.71 1472.2 1448.71 1475.53 Q1448.71 1480.65 1445.19 1483.45 Q1441.67 1486.25 1435.19 1486.25 Q1433.02 1486.25 1430.7 1485.81 Q1428.41 1485.39 1425.96 1484.54 L1425.96 1480.02 Q1427.9 1481.16 1430.22 1481.74 Q1432.53 1482.32 1435.05 1482.32 Q1439.45 1482.32 1441.74 1480.58 Q1444.06 1478.84 1444.06 1475.53 Q1444.06 1472.48 1441.91 1470.77 Q1439.78 1469.03 1435.96 1469.03 L1431.93 1469.03 L1431.93 1465.19 L1436.14 1465.19 Q1439.59 1465.19 1441.42 1463.82 Q1443.25 1462.43 1443.25 1459.84 Q1443.25 1457.18 1441.35 1455.77 Q1439.48 1454.33 1435.96 1454.33 Q1434.04 1454.33 1431.84 1454.75 Q1429.64 1455.16 1427 1456.04 L1427 1451.88 Q1429.66 1451.14 1431.98 1450.77 Q1434.31 1450.39 1436.37 1450.39 Q1441.7 1450.39 1444.8 1452.83 Q1447.9 1455.23 1447.9 1459.35 Q1447.9 1462.22 1446.26 1464.21 Q1444.61 1466.18 1441.58 1466.95 Z\" fill=\"#000000\" fill-rule=\"nonzero\" fill-opacity=\"1\" /><path clip-path=\"url(#clip540)\" d=\"M1467.58 1454.1 Q1463.97 1454.1 1462.14 1457.66 Q1460.33 1461.2 1460.33 1468.33 Q1460.33 1475.44 1462.14 1479.01 Q1463.97 1482.55 1467.58 1482.55 Q1471.21 1482.55 1473.02 1479.01 Q1474.85 1475.44 1474.85 1468.33 Q1474.85 1461.2 1473.02 1457.66 Q1471.21 1454.1 1467.58 1454.1 M1467.58 1450.39 Q1473.39 1450.39 1476.44 1455 Q1479.52 1459.58 1479.52 1468.33 Q1479.52 1477.06 1476.44 1481.67 Q1473.39 1486.25 1467.58 1486.25 Q1461.77 1486.25 1458.69 1481.67 Q1455.63 1477.06 1455.63 1468.33 Q1455.63 1459.58 1458.69 1455 Q1461.77 1450.39 1467.58 1450.39 Z\" fill=\"#000000\" fill-rule=\"nonzero\" fill-opacity=\"1\" /><path clip-path=\"url(#clip540)\" d=\"M1860.11 1455.09 L1848.3 1473.54 L1860.11 1473.54 L1860.11 1455.09 M1858.88 1451.02 L1864.76 1451.02 L1864.76 1473.54 L1869.69 1473.54 L1869.69 1477.43 L1864.76 1477.43 L1864.76 1485.58 L1860.11 1485.58 L1860.11 1477.43 L1844.51 1477.43 L1844.51 1472.92 L1858.88 1451.02 Z\" fill=\"#000000\" fill-rule=\"nonzero\" fill-opacity=\"1\" /><path clip-path=\"url(#clip540)\" d=\"M1887.42 1454.1 Q1883.81 1454.1 1881.98 1457.66 Q1880.18 1461.2 1880.18 1468.33 Q1880.18 1475.44 1881.98 1479.01 Q1883.81 1482.55 1887.42 1482.55 Q1891.06 1482.55 1892.86 1479.01 Q1894.69 1475.44 1894.69 1468.33 Q1894.69 1461.2 1892.86 1457.66 Q1891.06 1454.1 1887.42 1454.1 M1887.42 1450.39 Q1893.23 1450.39 1896.29 1455 Q1899.37 1459.58 1899.37 1468.33 Q1899.37 1477.06 1896.29 1481.67 Q1893.23 1486.25 1887.42 1486.25 Q1881.61 1486.25 1878.53 1481.67 Q1875.48 1477.06 1875.48 1468.33 Q1875.48 1459.58 1878.53 1455 Q1881.61 1450.39 1887.42 1450.39 Z\" fill=\"#000000\" fill-rule=\"nonzero\" fill-opacity=\"1\" /><path clip-path=\"url(#clip540)\" d=\"M2265.83 1451.02 L2284.19 1451.02 L2284.19 1454.96 L2270.12 1454.96 L2270.12 1463.43 Q2271.13 1463.08 2272.15 1462.92 Q2273.17 1462.73 2274.19 1462.73 Q2279.98 1462.73 2283.36 1465.9 Q2286.74 1469.08 2286.74 1474.49 Q2286.74 1480.07 2283.26 1483.17 Q2279.79 1486.25 2273.47 1486.25 Q2271.3 1486.25 2269.03 1485.88 Q2266.78 1485.51 2264.37 1484.77 L2264.37 1480.07 Q2266.46 1481.2 2268.68 1481.76 Q2270.9 1482.32 2273.38 1482.32 Q2277.38 1482.32 2279.72 1480.21 Q2282.06 1478.1 2282.06 1474.49 Q2282.06 1470.88 2279.72 1468.77 Q2277.38 1466.67 2273.38 1466.67 Q2271.5 1466.67 2269.63 1467.08 Q2267.78 1467.5 2265.83 1468.38 L2265.83 1451.02 Z\" fill=\"#000000\" fill-rule=\"nonzero\" fill-opacity=\"1\" /><path clip-path=\"url(#clip540)\" d=\"M2305.95 1454.1 Q2302.34 1454.1 2300.51 1457.66 Q2298.7 1461.2 2298.7 1468.33 Q2298.7 1475.44 2300.51 1479.01 Q2302.34 1482.55 2305.95 1482.55 Q2309.58 1482.55 2311.39 1479.01 Q2313.22 1475.44 2313.22 1468.33 Q2313.22 1461.2 2311.39 1457.66 Q2309.58 1454.1 2305.95 1454.1 M2305.95 1450.39 Q2311.76 1450.39 2314.81 1455 Q2317.89 1459.58 2317.89 1468.33 Q2317.89 1477.06 2314.81 1481.67 Q2311.76 1486.25 2305.95 1486.25 Q2300.14 1486.25 2297.06 1481.67 Q2294 1477.06 2294 1468.33 Q2294 1459.58 2297.06 1455 Q2300.14 1450.39 2305.95 1450.39 Z\" fill=\"#000000\" fill-rule=\"nonzero\" fill-opacity=\"1\" /><path clip-path=\"url(#clip540)\" d=\"M1170.27 1520.52 L1200.32 1520.52 L1200.32 1525.93 L1176.7 1525.93 L1176.7 1540 L1199.33 1540 L1199.33 1545.41 L1176.7 1545.41 L1176.7 1562.63 L1200.89 1562.63 L1200.89 1568.04 L1170.27 1568.04 L1170.27 1520.52 Z\" fill=\"#000000\" fill-rule=\"nonzero\" fill-opacity=\"1\" /><path clip-path=\"url(#clip540)\" d=\"M1216.87 1562.7 L1216.87 1581.6 L1210.98 1581.6 L1210.98 1532.4 L1216.87 1532.4 L1216.87 1537.81 Q1218.71 1534.62 1221.51 1533.1 Q1224.35 1531.54 1228.26 1531.54 Q1234.75 1531.54 1238.8 1536.69 Q1242.87 1541.85 1242.87 1550.25 Q1242.87 1558.65 1238.8 1563.81 Q1234.75 1568.97 1228.26 1568.97 Q1224.35 1568.97 1221.51 1567.44 Q1218.71 1565.88 1216.87 1562.7 M1236.79 1550.25 Q1236.79 1543.79 1234.12 1540.13 Q1231.48 1536.44 1226.83 1536.44 Q1222.18 1536.44 1219.51 1540.13 Q1216.87 1543.79 1216.87 1550.25 Q1216.87 1556.71 1219.51 1560.4 Q1222.18 1564.07 1226.83 1564.07 Q1231.48 1564.07 1234.12 1560.4 Q1236.79 1556.71 1236.79 1550.25 Z\" fill=\"#000000\" fill-rule=\"nonzero\" fill-opacity=\"1\" /><path clip-path=\"url(#clip540)\" d=\"M1266.39 1536.5 Q1261.68 1536.5 1258.94 1540.19 Q1256.21 1543.85 1256.21 1550.25 Q1256.21 1556.65 1258.91 1560.34 Q1261.65 1564 1266.39 1564 Q1271.07 1564 1273.81 1560.31 Q1276.55 1556.62 1276.55 1550.25 Q1276.55 1543.92 1273.81 1540.23 Q1271.07 1536.5 1266.39 1536.5 M1266.39 1531.54 Q1274.03 1531.54 1278.39 1536.5 Q1282.75 1541.47 1282.75 1550.25 Q1282.75 1559 1278.39 1564 Q1274.03 1568.97 1266.39 1568.97 Q1258.72 1568.97 1254.36 1564 Q1250.03 1559 1250.03 1550.25 Q1250.03 1541.47 1254.36 1536.5 Q1258.72 1531.54 1266.39 1531.54 Z\" fill=\"#000000\" fill-rule=\"nonzero\" fill-opacity=\"1\" /><path clip-path=\"url(#clip540)\" d=\"M1318.11 1533.76 L1318.11 1539.24 Q1315.63 1537.87 1313.12 1537.2 Q1310.63 1536.5 1308.09 1536.5 Q1302.39 1536.5 1299.24 1540.13 Q1296.09 1543.73 1296.09 1550.25 Q1296.09 1556.78 1299.24 1560.4 Q1302.39 1564 1308.09 1564 Q1310.63 1564 1313.12 1563.33 Q1315.63 1562.63 1318.11 1561.26 L1318.11 1566.68 Q1315.66 1567.82 1313.02 1568.39 Q1310.41 1568.97 1307.45 1568.97 Q1299.4 1568.97 1294.66 1563.91 Q1289.91 1558.85 1289.91 1550.25 Q1289.91 1541.53 1294.69 1536.53 Q1299.49 1531.54 1307.83 1531.54 Q1310.54 1531.54 1313.12 1532.11 Q1315.69 1532.65 1318.11 1533.76 Z\" fill=\"#000000\" fill-rule=\"nonzero\" fill-opacity=\"1\" /><path clip-path=\"url(#clip540)\" d=\"M1357.93 1546.53 L1357.93 1568.04 L1352.07 1568.04 L1352.07 1546.72 Q1352.07 1541.66 1350.1 1539.14 Q1348.13 1536.63 1344.18 1536.63 Q1339.44 1536.63 1336.7 1539.65 Q1333.96 1542.68 1333.96 1547.9 L1333.96 1568.04 L1328.08 1568.04 L1328.08 1518.52 L1333.96 1518.52 L1333.96 1537.93 Q1336.06 1534.72 1338.9 1533.13 Q1341.76 1531.54 1345.49 1531.54 Q1351.63 1531.54 1354.78 1535.36 Q1357.93 1539.14 1357.93 1546.53 Z\" fill=\"#000000\" fill-rule=\"nonzero\" fill-opacity=\"1\" /><polyline clip-path=\"url(#clip540)\" style=\"stroke:#000000; stroke-linecap:round; stroke-linejoin:round; stroke-width:4; stroke-opacity:1; fill:none\" points=\"175.445,1423.18 175.445,123.472 \"/>\n",
       "<polyline clip-path=\"url(#clip540)\" style=\"stroke:#000000; stroke-linecap:round; stroke-linejoin:round; stroke-width:4; stroke-opacity:1; fill:none\" points=\"175.445,1399.28 194.343,1399.28 \"/>\n",
       "<polyline clip-path=\"url(#clip540)\" style=\"stroke:#000000; stroke-linecap:round; stroke-linejoin:round; stroke-width:4; stroke-opacity:1; fill:none\" points=\"175.445,1067.62 194.343,1067.62 \"/>\n",
       "<polyline clip-path=\"url(#clip540)\" style=\"stroke:#000000; stroke-linecap:round; stroke-linejoin:round; stroke-width:4; stroke-opacity:1; fill:none\" points=\"175.445,735.952 194.343,735.952 \"/>\n",
       "<polyline clip-path=\"url(#clip540)\" style=\"stroke:#000000; stroke-linecap:round; stroke-linejoin:round; stroke-width:4; stroke-opacity:1; fill:none\" points=\"175.445,404.287 194.343,404.287 \"/>\n",
       "<path clip-path=\"url(#clip540)\" d=\"M127.501 1385.08 Q123.89 1385.08 122.061 1388.65 Q120.255 1392.19 120.255 1399.32 Q120.255 1406.42 122.061 1409.99 Q123.89 1413.53 127.501 1413.53 Q131.135 1413.53 132.941 1409.99 Q134.769 1406.42 134.769 1399.32 Q134.769 1392.19 132.941 1388.65 Q131.135 1385.08 127.501 1385.08 M127.501 1381.38 Q133.311 1381.38 136.367 1385.98 Q139.445 1390.57 139.445 1399.32 Q139.445 1408.04 136.367 1412.65 Q133.311 1417.23 127.501 1417.23 Q121.691 1417.23 118.612 1412.65 Q115.556 1408.04 115.556 1399.32 Q115.556 1390.57 118.612 1385.98 Q121.691 1381.38 127.501 1381.38 Z\" fill=\"#000000\" fill-rule=\"nonzero\" fill-opacity=\"1\" /><path clip-path=\"url(#clip540)\" d=\"M123.126 1080.96 L139.445 1080.96 L139.445 1084.9 L117.501 1084.9 L117.501 1080.96 Q120.163 1078.21 124.746 1073.58 Q129.353 1068.92 130.533 1067.58 Q132.779 1065.06 133.658 1063.32 Q134.561 1061.56 134.561 1059.87 Q134.561 1057.12 132.617 1055.38 Q130.695 1053.65 127.593 1053.65 Q125.394 1053.65 122.941 1054.41 Q120.51 1055.17 117.732 1056.73 L117.732 1052 Q120.556 1050.87 123.01 1050.29 Q125.464 1049.71 127.501 1049.71 Q132.871 1049.71 136.066 1052.4 Q139.26 1055.08 139.26 1059.57 Q139.26 1061.7 138.45 1063.62 Q137.663 1065.52 135.556 1068.11 Q134.978 1068.79 131.876 1072 Q128.774 1075.2 123.126 1080.96 Z\" fill=\"#000000\" fill-rule=\"nonzero\" fill-opacity=\"1\" /><path clip-path=\"url(#clip540)\" d=\"M129.862 722.746 L118.056 741.195 L129.862 741.195 L129.862 722.746 M128.635 718.672 L134.515 718.672 L134.515 741.195 L139.445 741.195 L139.445 745.084 L134.515 745.084 L134.515 753.232 L129.862 753.232 L129.862 745.084 L114.26 745.084 L114.26 740.57 L128.635 718.672 Z\" fill=\"#000000\" fill-rule=\"nonzero\" fill-opacity=\"1\" /><path clip-path=\"url(#clip540)\" d=\"M127.917 402.424 Q124.769 402.424 122.918 404.576 Q121.089 406.729 121.089 410.479 Q121.089 414.206 122.918 416.382 Q124.769 418.535 127.917 418.535 Q131.066 418.535 132.894 416.382 Q134.746 414.206 134.746 410.479 Q134.746 406.729 132.894 404.576 Q131.066 402.424 127.917 402.424 M137.2 387.771 L137.2 392.03 Q135.441 391.197 133.635 390.757 Q131.853 390.317 130.093 390.317 Q125.464 390.317 123.01 393.442 Q120.58 396.567 120.232 402.887 Q121.598 400.873 123.658 399.808 Q125.718 398.72 128.195 398.72 Q133.404 398.72 136.413 401.891 Q139.445 405.039 139.445 410.479 Q139.445 415.803 136.297 419.021 Q133.149 422.238 127.917 422.238 Q121.922 422.238 118.751 417.655 Q115.58 413.049 115.58 404.322 Q115.58 396.127 119.468 391.266 Q123.357 386.382 129.908 386.382 Q131.667 386.382 133.45 386.729 Q135.255 387.076 137.2 387.771 Z\" fill=\"#000000\" fill-rule=\"nonzero\" fill-opacity=\"1\" /><path clip-path=\"url(#clip540)\" d=\"M16.4842 840.023 L16.4842 833.593 L58.5933 833.593 L58.5933 810.454 L64.0042 810.454 L64.0042 840.023 L16.4842 840.023 Z\" fill=\"#000000\" fill-rule=\"nonzero\" fill-opacity=\"1\" /><path clip-path=\"url(#clip540)\" d=\"M32.4621 791.293 Q32.4621 796.004 36.1542 798.741 Q39.8145 801.478 46.212 801.478 Q52.6095 801.478 56.3017 798.773 Q59.9619 796.036 59.9619 791.293 Q59.9619 786.614 56.2698 783.877 Q52.5777 781.14 46.212 781.14 Q39.8781 781.14 36.186 783.877 Q32.4621 786.614 32.4621 791.293 M27.4968 791.293 Q27.4968 783.654 32.4621 779.294 Q37.4273 774.933 46.212 774.933 Q54.9649 774.933 59.9619 779.294 Q64.9272 783.654 64.9272 791.293 Q64.9272 798.964 59.9619 803.324 Q54.9649 807.653 46.212 807.653 Q37.4273 807.653 32.4621 803.324 Q27.4968 798.964 27.4968 791.293 Z\" fill=\"#000000\" fill-rule=\"nonzero\" fill-opacity=\"1\" /><path clip-path=\"url(#clip540)\" d=\"M29.4065 742.5 L34.9447 742.5 Q33.6716 744.983 33.035 747.656 Q32.3984 750.33 32.3984 753.194 Q32.3984 757.555 33.7352 759.751 Q35.072 761.915 37.7456 761.915 Q39.7826 761.915 40.9603 760.356 Q42.1061 758.796 43.1565 754.086 L43.6021 752.08 Q44.9389 745.842 47.3897 743.232 Q49.8086 740.59 54.1691 740.59 Q59.1344 740.59 62.0308 744.537 Q64.9272 748.452 64.9272 755.327 Q64.9272 758.192 64.3543 761.311 Q63.8132 764.398 62.6992 767.836 L56.6518 767.836 Q58.3387 764.589 59.198 761.438 Q60.0256 758.287 60.0256 755.2 Q60.0256 751.062 58.6251 748.834 Q57.1929 746.606 54.6147 746.606 Q52.2276 746.606 50.9545 748.229 Q49.6813 749.821 48.5037 755.263 L48.0262 757.3 Q46.8804 762.743 44.5251 765.162 Q42.138 767.581 38.0002 767.581 Q32.9713 767.581 30.2341 764.016 Q27.4968 760.451 27.4968 753.895 Q27.4968 750.648 27.9743 747.784 Q28.4517 744.919 29.4065 742.5 Z\" fill=\"#000000\" fill-rule=\"nonzero\" fill-opacity=\"1\" /><path clip-path=\"url(#clip540)\" d=\"M29.4065 708.539 L34.9447 708.539 Q33.6716 711.022 33.035 713.695 Q32.3984 716.369 32.3984 719.233 Q32.3984 723.594 33.7352 725.79 Q35.072 727.954 37.7456 727.954 Q39.7826 727.954 40.9603 726.395 Q42.1061 724.835 43.1565 720.125 L43.6021 718.119 Q44.9389 711.881 47.3897 709.271 Q49.8086 706.629 54.1691 706.629 Q59.1344 706.629 62.0308 710.576 Q64.9272 714.491 64.9272 721.366 Q64.9272 724.23 64.3543 727.35 Q63.8132 730.437 62.6992 733.875 L56.6518 733.875 Q58.3387 730.628 59.198 727.477 Q60.0256 724.326 60.0256 721.239 Q60.0256 717.101 58.6251 714.873 Q57.1929 712.645 54.6147 712.645 Q52.2276 712.645 50.9545 714.268 Q49.6813 715.86 48.5037 721.302 L48.0262 723.339 Q46.8804 728.782 44.5251 731.201 Q42.138 733.62 38.0002 733.62 Q32.9713 733.62 30.2341 730.055 Q27.4968 726.49 27.4968 719.934 Q27.4968 716.687 27.9743 713.823 Q28.4517 710.958 29.4065 708.539 Z\" fill=\"#000000\" fill-rule=\"nonzero\" fill-opacity=\"1\" /><path clip-path=\"url(#clip540)\" d=\"M998.159 12.096 L1049.32 12.096 L1049.32 18.9825 L1027.85 18.9825 L1027.85 72.576 L1019.63 72.576 L1019.63 18.9825 L998.159 18.9825 L998.159 12.096 Z\" fill=\"#000000\" fill-rule=\"nonzero\" fill-opacity=\"1\" /><path clip-path=\"url(#clip540)\" d=\"M1070.99 34.1734 Q1069.74 33.4443 1068.24 33.1202 Q1066.78 32.7556 1065 32.7556 Q1058.68 32.7556 1055.28 36.8875 Q1051.91 40.9789 1051.91 48.6757 L1051.91 72.576 L1044.42 72.576 L1044.42 27.2059 L1051.91 27.2059 L1051.91 34.2544 Q1054.26 30.1225 1058.03 28.1376 Q1061.8 26.1121 1067.19 26.1121 Q1067.96 26.1121 1068.89 26.2337 Q1069.82 26.3147 1070.95 26.5172 L1070.99 34.1734 Z\" fill=\"#000000\" fill-rule=\"nonzero\" fill-opacity=\"1\" /><path clip-path=\"url(#clip540)\" d=\"M1099.43 49.7694 Q1090.4 49.7694 1086.91 51.8354 Q1083.43 53.9013 1083.43 58.8839 Q1083.43 62.8538 1086.02 65.2034 Q1088.66 67.5124 1093.15 67.5124 Q1099.35 67.5124 1103.08 63.1374 Q1106.84 58.7219 1106.84 51.4303 L1106.84 49.7694 L1099.43 49.7694 M1114.3 46.6907 L1114.3 72.576 L1106.84 72.576 L1106.84 65.6895 Q1104.29 69.8214 1100.48 71.8063 Q1096.68 73.7508 1091.17 73.7508 Q1084.2 73.7508 1080.07 69.8619 Q1075.98 65.9325 1075.98 59.3701 Q1075.98 51.7138 1081.08 47.825 Q1086.23 43.9361 1096.39 43.9361 L1106.84 43.9361 L1106.84 43.2069 Q1106.84 38.0623 1103.44 35.2672 Q1100.08 32.4315 1093.96 32.4315 Q1090.07 32.4315 1086.39 33.3632 Q1082.7 34.295 1079.3 36.1584 L1079.3 29.2718 Q1083.39 27.692 1087.24 26.9223 Q1091.09 26.1121 1094.73 26.1121 Q1104.58 26.1121 1109.44 31.2163 Q1114.3 36.3204 1114.3 46.6907 Z\" fill=\"#000000\" fill-rule=\"nonzero\" fill-opacity=\"1\" /><path clip-path=\"url(#clip540)\" d=\"M1129.65 27.2059 L1137.1 27.2059 L1137.1 72.576 L1129.65 72.576 L1129.65 27.2059 M1129.65 9.54393 L1137.1 9.54393 L1137.1 18.9825 L1129.65 18.9825 L1129.65 9.54393 Z\" fill=\"#000000\" fill-rule=\"nonzero\" fill-opacity=\"1\" /><path clip-path=\"url(#clip540)\" d=\"M1190.41 45.1919 L1190.41 72.576 L1182.96 72.576 L1182.96 45.4349 Q1182.96 38.994 1180.45 35.7938 Q1177.94 32.5936 1172.91 32.5936 Q1166.88 32.5936 1163.4 36.4419 Q1159.91 40.2903 1159.91 46.9338 L1159.91 72.576 L1152.42 72.576 L1152.42 27.2059 L1159.91 27.2059 L1159.91 34.2544 Q1162.58 30.163 1166.19 28.1376 Q1169.84 26.1121 1174.58 26.1121 Q1182.39 26.1121 1186.4 30.9732 Q1190.41 35.7938 1190.41 45.1919 Z\" fill=\"#000000\" fill-rule=\"nonzero\" fill-opacity=\"1\" /><path clip-path=\"url(#clip540)\" d=\"M1205.28 27.2059 L1212.74 27.2059 L1212.74 72.576 L1205.28 72.576 L1205.28 27.2059 M1205.28 9.54393 L1212.74 9.54393 L1212.74 18.9825 L1205.28 18.9825 L1205.28 9.54393 Z\" fill=\"#000000\" fill-rule=\"nonzero\" fill-opacity=\"1\" /><path clip-path=\"url(#clip540)\" d=\"M1266.04 45.1919 L1266.04 72.576 L1258.59 72.576 L1258.59 45.4349 Q1258.59 38.994 1256.08 35.7938 Q1253.57 32.5936 1248.55 32.5936 Q1242.51 32.5936 1239.03 36.4419 Q1235.54 40.2903 1235.54 46.9338 L1235.54 72.576 L1228.05 72.576 L1228.05 27.2059 L1235.54 27.2059 L1235.54 34.2544 Q1238.22 30.163 1241.82 28.1376 Q1245.47 26.1121 1250.21 26.1121 Q1258.02 26.1121 1262.03 30.9732 Q1266.04 35.7938 1266.04 45.1919 Z\" fill=\"#000000\" fill-rule=\"nonzero\" fill-opacity=\"1\" /><path clip-path=\"url(#clip540)\" d=\"M1310.77 49.3643 Q1310.77 41.2625 1307.4 36.8065 Q1304.08 32.3505 1298.05 32.3505 Q1292.05 32.3505 1288.69 36.8065 Q1285.37 41.2625 1285.37 49.3643 Q1285.37 57.4256 1288.69 61.8816 Q1292.05 66.3376 1298.05 66.3376 Q1304.08 66.3376 1307.4 61.8816 Q1310.77 57.4256 1310.77 49.3643 M1318.22 66.9452 Q1318.22 78.5308 1313.08 84.1616 Q1307.93 89.8329 1297.32 89.8329 Q1293.39 89.8329 1289.9 89.2252 Q1286.42 88.6581 1283.14 87.4428 L1283.14 80.1917 Q1286.42 81.9741 1289.62 82.8248 Q1292.82 83.6755 1296.14 83.6755 Q1303.48 83.6755 1307.12 79.8271 Q1310.77 76.0193 1310.77 68.282 L1310.77 64.5957 Q1308.46 68.6061 1304.85 70.5911 Q1301.25 72.576 1296.22 72.576 Q1287.88 72.576 1282.78 66.2161 Q1277.67 59.8562 1277.67 49.3643 Q1277.67 38.832 1282.78 32.472 Q1287.88 26.1121 1296.22 26.1121 Q1301.25 26.1121 1304.85 28.0971 Q1308.46 30.082 1310.77 34.0924 L1310.77 27.2059 L1318.22 27.2059 L1318.22 66.9452 Z\" fill=\"#000000\" fill-rule=\"nonzero\" fill-opacity=\"1\" /><path clip-path=\"url(#clip540)\" d=\"M1360.27 12.096 L1368.45 12.096 L1368.45 65.6895 L1397.9 65.6895 L1397.9 72.576 L1360.27 72.576 L1360.27 12.096 Z\" fill=\"#000000\" fill-rule=\"nonzero\" fill-opacity=\"1\" /><path clip-path=\"url(#clip540)\" d=\"M1422.29 32.4315 Q1416.29 32.4315 1412.81 37.1306 Q1409.33 41.7891 1409.33 49.9314 Q1409.33 58.0738 1412.77 62.7728 Q1416.25 67.4314 1422.29 67.4314 Q1428.24 67.4314 1431.73 62.7323 Q1435.21 58.0333 1435.21 49.9314 Q1435.21 41.8701 1431.73 37.1711 Q1428.24 32.4315 1422.29 32.4315 M1422.29 26.1121 Q1432.01 26.1121 1437.56 32.4315 Q1443.11 38.7509 1443.11 49.9314 Q1443.11 61.0714 1437.56 67.4314 Q1432.01 73.7508 1422.29 73.7508 Q1412.53 73.7508 1406.98 67.4314 Q1401.47 61.0714 1401.47 49.9314 Q1401.47 38.7509 1406.98 32.4315 Q1412.53 26.1121 1422.29 26.1121 Z\" fill=\"#000000\" fill-rule=\"nonzero\" fill-opacity=\"1\" /><path clip-path=\"url(#clip540)\" d=\"M1484.39 28.5427 L1484.39 35.5912 Q1481.23 33.9709 1477.83 33.1607 Q1474.42 32.3505 1470.78 32.3505 Q1465.23 32.3505 1462.43 34.0519 Q1459.68 35.7533 1459.68 39.156 Q1459.68 41.7486 1461.66 43.2475 Q1463.65 44.7058 1469.64 46.0426 L1472.2 46.6097 Q1480.14 48.3111 1483.46 51.4303 Q1486.82 54.509 1486.82 60.0587 Q1486.82 66.3781 1481.8 70.0644 Q1476.81 73.7508 1468.06 73.7508 Q1464.42 73.7508 1460.45 73.0216 Q1456.52 72.3329 1452.14 70.9151 L1452.14 63.2184 Q1456.28 65.3654 1460.29 66.4591 Q1464.3 67.5124 1468.23 67.5124 Q1473.49 67.5124 1476.33 65.73 Q1479.16 63.9071 1479.16 60.6258 Q1479.16 57.5877 1477.1 55.9673 Q1475.07 54.3469 1468.14 52.8481 L1465.55 52.2405 Q1458.62 50.7821 1455.55 47.7845 Q1452.47 44.7463 1452.47 39.4801 Q1452.47 33.0797 1457 29.5959 Q1461.54 26.1121 1469.89 26.1121 Q1474.02 26.1121 1477.66 26.7198 Q1481.31 27.3274 1484.39 28.5427 Z\" fill=\"#000000\" fill-rule=\"nonzero\" fill-opacity=\"1\" /><path clip-path=\"url(#clip540)\" d=\"M1527.61 28.5427 L1527.61 35.5912 Q1524.45 33.9709 1521.05 33.1607 Q1517.65 32.3505 1514 32.3505 Q1508.45 32.3505 1505.66 34.0519 Q1502.9 35.7533 1502.9 39.156 Q1502.9 41.7486 1504.89 43.2475 Q1506.87 44.7058 1512.87 46.0426 L1515.42 46.6097 Q1523.36 48.3111 1526.68 51.4303 Q1530.04 54.509 1530.04 60.0587 Q1530.04 66.3781 1525.02 70.0644 Q1520.04 73.7508 1511.29 73.7508 Q1507.64 73.7508 1503.67 73.0216 Q1499.74 72.3329 1495.37 70.9151 L1495.37 63.2184 Q1499.5 65.3654 1503.51 66.4591 Q1507.52 67.5124 1511.45 67.5124 Q1516.71 67.5124 1519.55 65.73 Q1522.39 63.9071 1522.39 60.6258 Q1522.39 57.5877 1520.32 55.9673 Q1518.29 54.3469 1511.37 52.8481 L1508.78 52.2405 Q1501.85 50.7821 1498.77 47.7845 Q1495.69 44.7463 1495.69 39.4801 Q1495.69 33.0797 1500.23 29.5959 Q1504.76 26.1121 1513.11 26.1121 Q1517.24 26.1121 1520.89 26.7198 Q1524.53 27.3274 1527.61 28.5427 Z\" fill=\"#000000\" fill-rule=\"nonzero\" fill-opacity=\"1\" /><polyline clip-path=\"url(#clip542)\" style=\"stroke:#009af9; stroke-linecap:round; stroke-linejoin:round; stroke-width:8; stroke-opacity:1; fill:none\" points=\"237.067,160.256 278.987,774.002 320.907,846.496 362.826,883.896 404.746,906.883 446.666,922.969 488.586,935.627 530.505,948.797 572.425,1293.05 614.345,1329.84 656.264,1342.35 698.184,1350.6 740.104,1356.66 782.024,1361.1 823.943,1364.48 865.863,1367.1 907.783,1369.73 949.703,1371.89 991.622,1373.73 1033.54,1375.33 1075.46,1376.59 1117.38,1377.55 1159.3,1378.49 1201.22,1379.36 1243.14,1380.08 1285.06,1380.74 1326.98,1381.3 1368.9,1381.8 1410.82,1382.2 1452.74,1382.6 1494.66,1382.93 1536.58,1383.22 1578.5,1383.56 1620.42,1383.84 1662.34,1384.13 1704.26,1384.38 1746.18,1384.63 1788.1,1384.85 1830.02,1385 1871.94,1385.17 1913.86,1385.34 1955.78,1385.5 1997.7,1385.64 2039.62,1385.78 2081.54,1385.91 2123.45,1386.05 2165.37,1386.16 2207.29,1386.25 2249.21,1386.33 2291.13,1386.4 \"/>\n",
       "</svg>\n"
      ]
     },
     "execution_count": 20,
     "metadata": {},
     "output_type": "execute_result"
    }
   ],
   "source": [
    "using Plots\n",
    "plot(losses, xlabel=\"Epoch\", ylabel=\"Loss\", title=\"Training Loss\", legend=false, lw=2)"
   ]
  },
  {
   "cell_type": "markdown",
   "metadata": {},
   "source": [
    "## Evaluation"
   ]
  },
  {
   "cell_type": "code",
   "execution_count": 12,
   "metadata": {},
   "outputs": [
    {
     "data": {
      "text/plain": [
       "0.9565"
      ]
     },
     "execution_count": 12,
     "metadata": {},
     "output_type": "execute_result"
    }
   ],
   "source": [
    "MiniML.classification_accuracy(model, tensor(X_test),  tensor(y_test)"
   ]
  },
  {
   "cell_type": "markdown",
   "metadata": {},
   "source": [
    "\n"
   ]
  }
 ],
 "metadata": {
  "kernelspec": {
   "display_name": "Julia 1.11.1",
   "language": "julia",
   "name": "julia-1.11"
  },
  "language_info": {
   "file_extension": ".jl",
   "mimetype": "application/julia",
   "name": "julia",
   "version": "1.11.1"
  }
 },
 "nbformat": 4,
 "nbformat_minor": 4
}
